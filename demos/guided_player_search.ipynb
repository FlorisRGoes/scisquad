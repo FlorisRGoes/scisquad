{
 "cells": [
  {
   "metadata": {},
   "cell_type": "markdown",
   "source": [
    "# Guided Player Search\n",
    "\n",
    "Find patterns in a team historic transfer data and find recommended players for a given position using automatically generated filter settings"
   ],
   "id": "3b539875a19fc65"
  },
  {
   "metadata": {
    "ExecuteTime": {
     "end_time": "2025-08-28T13:02:54.835334Z",
     "start_time": "2025-08-28T13:02:54.377109Z"
    }
   },
   "cell_type": "code",
   "source": [
    "import os\n",
    "\n",
    "from dotenv import load_dotenv\n",
    "\n",
    "from scisquad.api.domain import ApiCredentials\n",
    "from scisquad.api.entities import TeamsAPI\n",
    "from scisquad.insights.squad import SquadTransferInsights\n",
    "from scisquad.insights.squad import SquadPerformanceInsights\n",
    "from scisquad.api.player_search import GuidedSearchAPI\n",
    "from scisquad.api.management import CollaborationAPI"
   ],
   "id": "8adf2bbddc41b384",
   "outputs": [],
   "execution_count": 1
  },
  {
   "metadata": {},
   "cell_type": "markdown",
   "source": "## Set Parameters",
   "id": "cfa02b8b2ea7786d"
  },
  {
   "metadata": {
    "ExecuteTime": {
     "end_time": "2025-08-28T13:02:56.004761Z",
     "start_time": "2025-08-28T13:02:55.996250Z"
    }
   },
   "cell_type": "code",
   "source": "load_dotenv()",
   "id": "2340ceeffc7d3742",
   "outputs": [
    {
     "data": {
      "text/plain": [
       "True"
      ]
     },
     "execution_count": 2,
     "metadata": {},
     "output_type": "execute_result"
    }
   ],
   "execution_count": 2
  },
  {
   "metadata": {
    "ExecuteTime": {
     "end_time": "2025-08-28T13:02:56.499957Z",
     "start_time": "2025-08-28T13:02:56.495811Z"
    }
   },
   "cell_type": "code",
   "source": [
    "credentials = ApiCredentials(\n",
    "    username=os.getenv(\"API_USER\"),\n",
    "    password=os.getenv(\"API_PW\"),\n",
    "    client_id=os.getenv(\"API_CLIENT_ID\"),\n",
    "    client_secret=os.getenv(\"API_CLIENT_SECRET\"),\n",
    ")"
   ],
   "id": "4b466b0a3cc64057",
   "outputs": [],
   "execution_count": 3
  },
  {
   "metadata": {},
   "cell_type": "markdown",
   "source": "## Connect with API",
   "id": "c9ed843d8756ae71"
  },
  {
   "metadata": {
    "collapsed": true,
    "ExecuteTime": {
     "end_time": "2025-08-28T13:03:06.685775Z",
     "start_time": "2025-08-28T13:02:57.498612Z"
    }
   },
   "cell_type": "code",
   "source": [
    "tAPI = TeamsAPI(credentials)\n",
    "ajax = tAPI.get_team(1099)"
   ],
   "id": "ea3a16afa0fc7a27",
   "outputs": [
    {
     "name": "stdout",
     "output_type": "stream",
     "text": [
      "Request completed: 200\n",
      "Request completed: 200\n",
      "Request completed: 200\n",
      "Request completed: 200\n",
      "Request completed: 200\n",
      "Request completed: 200\n",
      "Request completed: 200\n",
      "Request completed: 200\n",
      "Request completed: 200\n",
      "Request completed: 200\n",
      "Request completed: 200\n",
      "Request completed: 200\n",
      "Request completed: 200\n",
      "Request completed: 200\n",
      "Request completed: 200\n",
      "Request completed: 200\n",
      "Request completed: 200\n",
      "Request completed: 200\n",
      "Request completed: 200\n",
      "Request completed: 200\n",
      "Request completed: 200\n",
      "Request completed: 200\n",
      "Request completed: 200\n",
      "Request completed: 200\n",
      "Request completed: 200\n",
      "Request completed: 200\n",
      "Request completed: 200\n",
      "Request completed: 200\n",
      "Request completed: 200\n",
      "Request completed: 200\n",
      "Request completed: 200\n",
      "Request completed: 200\n",
      "Request completed: 200\n",
      "Request completed: 200\n",
      "Request completed: 200\n",
      "Request completed: 200\n",
      "Request completed: 200\n",
      "Request completed: 200\n",
      "Request completed: 200\n",
      "Request completed: 200\n",
      "Request completed: 200\n",
      "Request completed: 200\n",
      "Request completed: 200\n",
      "Request completed: 200\n",
      "Request completed: 200\n",
      "Request completed: 200\n",
      "Request completed: 200\n",
      "Request completed: 200\n",
      "Request completed: 200\n",
      "Request completed: 200\n",
      "Request completed: 200\n",
      "Request completed: 200\n",
      "Request completed: 200\n",
      "Request completed: 200\n",
      "Request completed: 200\n",
      "Request completed: 200\n",
      "Request completed: 200\n",
      "Request completed: 200\n"
     ]
    }
   ],
   "execution_count": 4
  },
  {
   "metadata": {},
   "cell_type": "markdown",
   "source": "## Analyze Team",
   "id": "a381e0b7927dcee7"
  },
  {
   "metadata": {
    "ExecuteTime": {
     "end_time": "2025-08-28T13:03:10.283380Z",
     "start_time": "2025-08-28T13:03:10.249218Z"
    }
   },
   "cell_type": "code",
   "source": [
    "transfer_insights = SquadTransferInsights(ajax).analyze_inbound()\n",
    "performance_insights = SquadPerformanceInsights(ajax).get_team_performance_insights()"
   ],
   "id": "869aa60a79e618b5",
   "outputs": [
    {
     "name": "stderr",
     "output_type": "stream",
     "text": [
      "/Users/florisgoes/scisquad/scisquad/insights/squad.py:41: FutureWarning: Downcasting object dtype arrays on .fillna, .ffill, .bfill is deprecated and will change in a future version. Call result.infer_objects(copy=False) instead. To opt-in to the future behavior, set `pd.set_option('future.no_silent_downcasting', True)`\n",
      "  self._data['is_end_loan'] = self._data['is_end_loan'].fillna(False).astype(bool)\n",
      "/Users/florisgoes/scisquad/scisquad/insights/squad.py:42: FutureWarning: Downcasting object dtype arrays on .fillna, .ffill, .bfill is deprecated and will change in a future version. Call result.infer_objects(copy=False) instead. To opt-in to the future behavior, set `pd.set_option('future.no_silent_downcasting', True)`\n",
      "  self._data['is_loan'] = self._data['is_loan'].fillna(False).astype(bool)\n"
     ]
    }
   ],
   "execution_count": 5
  },
  {
   "metadata": {},
   "cell_type": "markdown",
   "source": "## Find recommendations",
   "id": "d07737e5aa220ef8"
  },
  {
   "metadata": {
    "ExecuteTime": {
     "end_time": "2025-08-28T13:05:05.058663Z",
     "start_time": "2025-08-28T13:03:14.777642Z"
    }
   },
   "cell_type": "code",
   "source": [
    "search = GuidedSearchAPI(credentials)\n",
    "search.set_league_selection(list(transfer_insights.get(\"inbound_market_shares\").keys())[:10])\n",
    "recommendations = search.find_recommended_players(\n",
    "    position=\"DefensiveMidfield\",\n",
    "    benchmark=performance_insights.get(\"mean_sciskill_top_15\"),\n",
    "    budget=transfer_insights.get(\"fee_range\").get(\"max\"),\n",
    "    age_lower=23,\n",
    "    age_upper=27\n",
    ")"
   ],
   "id": "1d1b18af6e475387",
   "outputs": [
    {
     "name": "stdout",
     "output_type": "stream",
     "text": [
      "Request completed: 200\n",
      "Request completed: 200\n",
      "Request completed: 200\n",
      "Request completed: 200\n",
      "Request completed: 200\n",
      "Request completed: 200\n",
      "Request completed: 200\n",
      "Request completed: 200\n",
      "Request completed: 200\n",
      "Request completed: 200\n",
      "Request completed: 200\n"
     ]
    },
    {
     "name": "stderr",
     "output_type": "stream",
     "text": [
      "PROCESSING RECORDS 0:5859:  17%|█▋        | 1/6 [00:02<00:10,  2.03s/it]"
     ]
    },
    {
     "name": "stdout",
     "output_type": "stream",
     "text": [
      "Request completed: 200\n"
     ]
    },
    {
     "name": "stderr",
     "output_type": "stream",
     "text": [
      "PROCESSING RECORDS 0:5859:  33%|███▎      | 2/6 [00:03<00:07,  1.84s/it]"
     ]
    },
    {
     "name": "stdout",
     "output_type": "stream",
     "text": [
      "Request completed: 200\n"
     ]
    },
    {
     "name": "stderr",
     "output_type": "stream",
     "text": [
      "PROCESSING RECORDS 0:5859:  50%|█████     | 3/6 [00:05<00:04,  1.65s/it]"
     ]
    },
    {
     "name": "stdout",
     "output_type": "stream",
     "text": [
      "Request completed: 200\n"
     ]
    },
    {
     "name": "stderr",
     "output_type": "stream",
     "text": [
      "PROCESSING RECORDS 0:5859:  67%|██████▋   | 4/6 [00:06<00:03,  1.69s/it]"
     ]
    },
    {
     "name": "stdout",
     "output_type": "stream",
     "text": [
      "Request completed: 200\n"
     ]
    },
    {
     "name": "stderr",
     "output_type": "stream",
     "text": [
      "PROCESSING RECORDS 0:5859:  83%|████████▎ | 5/6 [00:08<00:01,  1.61s/it]"
     ]
    },
    {
     "name": "stdout",
     "output_type": "stream",
     "text": [
      "Request completed: 200\n"
     ]
    },
    {
     "name": "stderr",
     "output_type": "stream",
     "text": [
      "PROCESSING RECORDS 0:5859: 100%|██████████| 6/6 [00:10<00:00,  1.68s/it]\n"
     ]
    },
    {
     "name": "stdout",
     "output_type": "stream",
     "text": [
      "Request completed: 200\n",
      "Filtered selection from 6000 to 1202 players.\n"
     ]
    },
    {
     "name": "stderr",
     "output_type": "stream",
     "text": [
      "COLLECTING METRICS:   0%|          | 0/1202 [00:00<?, ?it/s]"
     ]
    },
    {
     "name": "stdout",
     "output_type": "stream",
     "text": [
      "Request completed: 200\n"
     ]
    },
    {
     "name": "stderr",
     "output_type": "stream",
     "text": [
      "COLLECTING METRICS:   0%|          | 2/1202 [00:00<01:23, 14.39it/s]"
     ]
    },
    {
     "name": "stdout",
     "output_type": "stream",
     "text": [
      "Request completed: 200\n",
      "Request completed: 200\n"
     ]
    },
    {
     "name": "stderr",
     "output_type": "stream",
     "text": [
      "COLLECTING METRICS:   0%|          | 4/1202 [00:00<01:23, 14.30it/s]"
     ]
    },
    {
     "name": "stdout",
     "output_type": "stream",
     "text": [
      "Request completed: 200\n"
     ]
    },
    {
     "name": "stderr",
     "output_type": "stream",
     "text": [
      "COLLECTING METRICS:   0%|          | 6/1202 [00:00<01:24, 14.14it/s]"
     ]
    },
    {
     "name": "stdout",
     "output_type": "stream",
     "text": [
      "Request completed: 200\n",
      "Request completed: 200\n",
      "Request completed: 200\n"
     ]
    },
    {
     "name": "stderr",
     "output_type": "stream",
     "text": [
      "COLLECTING METRICS:   1%|          | 8/1202 [00:00<01:30, 13.13it/s]"
     ]
    },
    {
     "name": "stdout",
     "output_type": "stream",
     "text": [
      "Request completed: 200\n",
      "Request completed: 200\n"
     ]
    },
    {
     "name": "stderr",
     "output_type": "stream",
     "text": [
      "COLLECTING METRICS:   1%|          | 10/1202 [00:00<01:29, 13.28it/s]"
     ]
    },
    {
     "name": "stdout",
     "output_type": "stream",
     "text": [
      "Request completed: 200\n"
     ]
    },
    {
     "name": "stderr",
     "output_type": "stream",
     "text": [
      "COLLECTING METRICS:   1%|          | 12/1202 [00:00<01:29, 13.34it/s]"
     ]
    },
    {
     "name": "stdout",
     "output_type": "stream",
     "text": [
      "Request completed: 200\n",
      "Request completed: 200\n",
      "Request completed: 200\n"
     ]
    },
    {
     "name": "stderr",
     "output_type": "stream",
     "text": [
      "COLLECTING METRICS:   1%|          | 14/1202 [00:01<01:29, 13.22it/s]"
     ]
    },
    {
     "name": "stdout",
     "output_type": "stream",
     "text": [
      "Request completed: 200\n",
      "Request completed: 200\n"
     ]
    },
    {
     "name": "stderr",
     "output_type": "stream",
     "text": [
      "COLLECTING METRICS:   1%|▏         | 16/1202 [00:01<01:28, 13.37it/s]"
     ]
    },
    {
     "name": "stdout",
     "output_type": "stream",
     "text": [
      "Request completed: 200\n"
     ]
    },
    {
     "name": "stderr",
     "output_type": "stream",
     "text": [
      "COLLECTING METRICS:   1%|▏         | 18/1202 [00:01<01:30, 13.10it/s]"
     ]
    },
    {
     "name": "stdout",
     "output_type": "stream",
     "text": [
      "Request completed: 200\n",
      "Request completed: 200\n",
      "Request completed: 200\n"
     ]
    },
    {
     "name": "stderr",
     "output_type": "stream",
     "text": [
      "COLLECTING METRICS:   2%|▏         | 20/1202 [00:01<01:31, 12.99it/s]"
     ]
    },
    {
     "name": "stdout",
     "output_type": "stream",
     "text": [
      "Request completed: 200\n",
      "Request completed: 200\n"
     ]
    },
    {
     "name": "stderr",
     "output_type": "stream",
     "text": [
      "COLLECTING METRICS:   2%|▏         | 22/1202 [00:01<01:31, 12.88it/s]"
     ]
    },
    {
     "name": "stdout",
     "output_type": "stream",
     "text": [
      "Request completed: 200\n"
     ]
    },
    {
     "name": "stderr",
     "output_type": "stream",
     "text": [
      "COLLECTING METRICS:   2%|▏         | 24/1202 [00:01<01:29, 13.12it/s]"
     ]
    },
    {
     "name": "stdout",
     "output_type": "stream",
     "text": [
      "Request completed: 200\n",
      "Request completed: 200\n",
      "Request completed: 200\n"
     ]
    },
    {
     "name": "stderr",
     "output_type": "stream",
     "text": [
      "COLLECTING METRICS:   2%|▏         | 26/1202 [00:01<01:32, 12.74it/s]"
     ]
    },
    {
     "name": "stdout",
     "output_type": "stream",
     "text": [
      "Request completed: 200\n",
      "Request completed: 200\n"
     ]
    },
    {
     "name": "stderr",
     "output_type": "stream",
     "text": [
      "COLLECTING METRICS:   2%|▏         | 28/1202 [00:02<01:32, 12.66it/s]"
     ]
    },
    {
     "name": "stdout",
     "output_type": "stream",
     "text": [
      "Request completed: 200\n"
     ]
    },
    {
     "name": "stderr",
     "output_type": "stream",
     "text": [
      "COLLECTING METRICS:   2%|▏         | 30/1202 [00:02<01:32, 12.67it/s]"
     ]
    },
    {
     "name": "stdout",
     "output_type": "stream",
     "text": [
      "Request completed: 200\n",
      "Request completed: 200\n",
      "Request completed: 200\n"
     ]
    },
    {
     "name": "stderr",
     "output_type": "stream",
     "text": [
      "COLLECTING METRICS:   3%|▎         | 32/1202 [00:02<01:28, 13.15it/s]"
     ]
    },
    {
     "name": "stdout",
     "output_type": "stream",
     "text": [
      "Request completed: 200\n",
      "Request completed: 200\n"
     ]
    },
    {
     "name": "stderr",
     "output_type": "stream",
     "text": [
      "COLLECTING METRICS:   3%|▎         | 34/1202 [00:02<01:29, 13.07it/s]"
     ]
    },
    {
     "name": "stdout",
     "output_type": "stream",
     "text": [
      "Request completed: 200\n"
     ]
    },
    {
     "name": "stderr",
     "output_type": "stream",
     "text": [
      "COLLECTING METRICS:   3%|▎         | 36/1202 [00:02<01:26, 13.55it/s]"
     ]
    },
    {
     "name": "stdout",
     "output_type": "stream",
     "text": [
      "Request completed: 200\n",
      "Request completed: 200\n",
      "Request completed: 200\n"
     ]
    },
    {
     "name": "stderr",
     "output_type": "stream",
     "text": [
      "COLLECTING METRICS:   3%|▎         | 38/1202 [00:02<01:26, 13.43it/s]"
     ]
    },
    {
     "name": "stdout",
     "output_type": "stream",
     "text": [
      "Request completed: 200\n",
      "Request completed: 200\n"
     ]
    },
    {
     "name": "stderr",
     "output_type": "stream",
     "text": [
      "COLLECTING METRICS:   3%|▎         | 40/1202 [00:03<01:24, 13.77it/s]"
     ]
    },
    {
     "name": "stdout",
     "output_type": "stream",
     "text": [
      "Request completed: 200\n"
     ]
    },
    {
     "name": "stderr",
     "output_type": "stream",
     "text": [
      "COLLECTING METRICS:   3%|▎         | 42/1202 [00:03<01:22, 14.05it/s]"
     ]
    },
    {
     "name": "stdout",
     "output_type": "stream",
     "text": [
      "Request completed: 200\n",
      "Request completed: 200\n",
      "Request completed: 200\n"
     ]
    },
    {
     "name": "stderr",
     "output_type": "stream",
     "text": [
      "COLLECTING METRICS:   4%|▎         | 44/1202 [00:03<01:23, 13.84it/s]"
     ]
    },
    {
     "name": "stdout",
     "output_type": "stream",
     "text": [
      "Request completed: 200\n",
      "Request completed: 200\n"
     ]
    },
    {
     "name": "stderr",
     "output_type": "stream",
     "text": [
      "COLLECTING METRICS:   4%|▍         | 46/1202 [00:03<01:22, 14.01it/s]"
     ]
    },
    {
     "name": "stdout",
     "output_type": "stream",
     "text": [
      "Request completed: 200\n"
     ]
    },
    {
     "name": "stderr",
     "output_type": "stream",
     "text": [
      "COLLECTING METRICS:   4%|▍         | 48/1202 [00:03<01:25, 13.43it/s]"
     ]
    },
    {
     "name": "stdout",
     "output_type": "stream",
     "text": [
      "Request completed: 200\n",
      "Request completed: 200\n",
      "Request completed: 200\n"
     ]
    },
    {
     "name": "stderr",
     "output_type": "stream",
     "text": [
      "COLLECTING METRICS:   4%|▍         | 50/1202 [00:03<01:25, 13.49it/s]"
     ]
    },
    {
     "name": "stdout",
     "output_type": "stream",
     "text": [
      "Request completed: 200\n",
      "Request completed: 200\n"
     ]
    },
    {
     "name": "stderr",
     "output_type": "stream",
     "text": [
      "COLLECTING METRICS:   4%|▍         | 52/1202 [00:03<01:22, 13.91it/s]"
     ]
    },
    {
     "name": "stdout",
     "output_type": "stream",
     "text": [
      "Request completed: 200\n"
     ]
    },
    {
     "name": "stderr",
     "output_type": "stream",
     "text": [
      "COLLECTING METRICS:   4%|▍         | 54/1202 [00:04<01:23, 13.80it/s]"
     ]
    },
    {
     "name": "stdout",
     "output_type": "stream",
     "text": [
      "Request completed: 200\n",
      "Request completed: 200\n",
      "Request completed: 200\n"
     ]
    },
    {
     "name": "stderr",
     "output_type": "stream",
     "text": [
      "COLLECTING METRICS:   5%|▍         | 56/1202 [00:04<01:21, 14.01it/s]"
     ]
    },
    {
     "name": "stdout",
     "output_type": "stream",
     "text": [
      "Request completed: 200\n",
      "Request completed: 200\n"
     ]
    },
    {
     "name": "stderr",
     "output_type": "stream",
     "text": [
      "COLLECTING METRICS:   5%|▍         | 58/1202 [00:04<01:26, 13.29it/s]"
     ]
    },
    {
     "name": "stdout",
     "output_type": "stream",
     "text": [
      "Request completed: 200\n"
     ]
    },
    {
     "name": "stderr",
     "output_type": "stream",
     "text": [
      "COLLECTING METRICS:   5%|▍         | 60/1202 [00:04<01:24, 13.58it/s]"
     ]
    },
    {
     "name": "stdout",
     "output_type": "stream",
     "text": [
      "Request completed: 200\n",
      "Request completed: 200\n",
      "Request completed: 200\n",
      "Request completed: 200\n"
     ]
    },
    {
     "name": "stderr",
     "output_type": "stream",
     "text": [
      "COLLECTING METRICS:   5%|▌         | 62/1202 [00:04<01:23, 13.72it/s]"
     ]
    },
    {
     "name": "stdout",
     "output_type": "stream",
     "text": [
      "Request completed: 200\n"
     ]
    },
    {
     "name": "stderr",
     "output_type": "stream",
     "text": [
      "COLLECTING METRICS:   5%|▌         | 64/1202 [00:04<01:23, 13.57it/s]"
     ]
    },
    {
     "name": "stdout",
     "output_type": "stream",
     "text": [
      "Request completed: 200\n",
      "Request completed: 200\n"
     ]
    },
    {
     "name": "stderr",
     "output_type": "stream",
     "text": [
      "COLLECTING METRICS:   5%|▌         | 66/1202 [00:04<01:24, 13.39it/s]"
     ]
    },
    {
     "name": "stdout",
     "output_type": "stream",
     "text": [
      "Request completed: 200\n"
     ]
    },
    {
     "name": "stderr",
     "output_type": "stream",
     "text": [
      "COLLECTING METRICS:   6%|▌         | 68/1202 [00:05<01:22, 13.70it/s]"
     ]
    },
    {
     "name": "stdout",
     "output_type": "stream",
     "text": [
      "Request completed: 200\n",
      "Request completed: 200\n"
     ]
    },
    {
     "name": "stderr",
     "output_type": "stream",
     "text": [
      "COLLECTING METRICS:   6%|▌         | 70/1202 [00:05<01:20, 14.13it/s]"
     ]
    },
    {
     "name": "stdout",
     "output_type": "stream",
     "text": [
      "Request completed: 200\n",
      "Request completed: 200\n"
     ]
    },
    {
     "name": "stderr",
     "output_type": "stream",
     "text": [
      "COLLECTING METRICS:   6%|▌         | 72/1202 [00:05<01:18, 14.34it/s]"
     ]
    },
    {
     "name": "stdout",
     "output_type": "stream",
     "text": [
      "Request completed: 200\n",
      "Request completed: 200\n",
      "Request completed: 200\n"
     ]
    },
    {
     "name": "stderr",
     "output_type": "stream",
     "text": [
      "COLLECTING METRICS:   6%|▌         | 74/1202 [00:05<01:21, 13.91it/s]"
     ]
    },
    {
     "name": "stdout",
     "output_type": "stream",
     "text": [
      "Request completed: 200\n",
      "Request completed: 200\n"
     ]
    },
    {
     "name": "stderr",
     "output_type": "stream",
     "text": [
      "COLLECTING METRICS:   6%|▋         | 76/1202 [00:05<01:24, 13.38it/s]"
     ]
    },
    {
     "name": "stdout",
     "output_type": "stream",
     "text": [
      "Request completed: 200\n"
     ]
    },
    {
     "name": "stderr",
     "output_type": "stream",
     "text": [
      "COLLECTING METRICS:   6%|▋         | 78/1202 [00:05<01:22, 13.56it/s]"
     ]
    },
    {
     "name": "stdout",
     "output_type": "stream",
     "text": [
      "Request completed: 200\n",
      "Request completed: 200\n",
      "Request completed: 200\n"
     ]
    },
    {
     "name": "stderr",
     "output_type": "stream",
     "text": [
      "COLLECTING METRICS:   7%|▋         | 80/1202 [00:05<01:25, 13.16it/s]"
     ]
    },
    {
     "name": "stdout",
     "output_type": "stream",
     "text": [
      "Request completed: 200\n",
      "Request completed: 200\n"
     ]
    },
    {
     "name": "stderr",
     "output_type": "stream",
     "text": [
      "COLLECTING METRICS:   7%|▋         | 82/1202 [00:06<01:24, 13.29it/s]"
     ]
    },
    {
     "name": "stdout",
     "output_type": "stream",
     "text": [
      "Request completed: 200\n"
     ]
    },
    {
     "name": "stderr",
     "output_type": "stream",
     "text": [
      "COLLECTING METRICS:   7%|▋         | 84/1202 [00:06<01:22, 13.57it/s]"
     ]
    },
    {
     "name": "stdout",
     "output_type": "stream",
     "text": [
      "Request completed: 200\n",
      "Request completed: 200\n",
      "Request completed: 200\n"
     ]
    },
    {
     "name": "stderr",
     "output_type": "stream",
     "text": [
      "COLLECTING METRICS:   7%|▋         | 86/1202 [00:06<01:21, 13.76it/s]"
     ]
    },
    {
     "name": "stdout",
     "output_type": "stream",
     "text": [
      "Request completed: 200\n",
      "Request completed: 200\n"
     ]
    },
    {
     "name": "stderr",
     "output_type": "stream",
     "text": [
      "COLLECTING METRICS:   7%|▋         | 88/1202 [00:06<01:22, 13.57it/s]"
     ]
    },
    {
     "name": "stdout",
     "output_type": "stream",
     "text": [
      "Request completed: 200\n"
     ]
    },
    {
     "name": "stderr",
     "output_type": "stream",
     "text": [
      "COLLECTING METRICS:   7%|▋         | 90/1202 [00:06<01:23, 13.28it/s]"
     ]
    },
    {
     "name": "stdout",
     "output_type": "stream",
     "text": [
      "Request completed: 200\n",
      "Request completed: 200\n",
      "Request completed: 200\n"
     ]
    },
    {
     "name": "stderr",
     "output_type": "stream",
     "text": [
      "COLLECTING METRICS:   8%|▊         | 92/1202 [00:06<01:21, 13.62it/s]"
     ]
    },
    {
     "name": "stdout",
     "output_type": "stream",
     "text": [
      "Request completed: 200\n",
      "Request completed: 200\n"
     ]
    },
    {
     "name": "stderr",
     "output_type": "stream",
     "text": [
      "COLLECTING METRICS:   8%|▊         | 94/1202 [00:06<01:19, 14.01it/s]"
     ]
    },
    {
     "name": "stdout",
     "output_type": "stream",
     "text": [
      "Request completed: 200\n",
      "Request completed: 200\n"
     ]
    },
    {
     "name": "stderr",
     "output_type": "stream",
     "text": [
      "COLLECTING METRICS:   8%|▊         | 96/1202 [00:07<01:18, 14.14it/s]"
     ]
    },
    {
     "name": "stdout",
     "output_type": "stream",
     "text": [
      "Request completed: 200\n"
     ]
    },
    {
     "name": "stderr",
     "output_type": "stream",
     "text": [
      "COLLECTING METRICS:   8%|▊         | 98/1202 [00:07<01:20, 13.72it/s]"
     ]
    },
    {
     "name": "stdout",
     "output_type": "stream",
     "text": [
      "Request completed: 200\n",
      "Request completed: 200\n",
      "Request completed: 200\n"
     ]
    },
    {
     "name": "stderr",
     "output_type": "stream",
     "text": [
      "COLLECTING METRICS:   8%|▊         | 100/1202 [00:07<01:21, 13.49it/s]"
     ]
    },
    {
     "name": "stdout",
     "output_type": "stream",
     "text": [
      "Request completed: 200\n",
      "Request completed: 200\n"
     ]
    },
    {
     "name": "stderr",
     "output_type": "stream",
     "text": [
      "COLLECTING METRICS:   8%|▊         | 102/1202 [00:07<01:20, 13.71it/s]"
     ]
    },
    {
     "name": "stdout",
     "output_type": "stream",
     "text": [
      "Request completed: 200\n"
     ]
    },
    {
     "name": "stderr",
     "output_type": "stream",
     "text": [
      "COLLECTING METRICS:   9%|▊         | 104/1202 [00:07<01:20, 13.69it/s]"
     ]
    },
    {
     "name": "stdout",
     "output_type": "stream",
     "text": [
      "Request completed: 200\n",
      "Request completed: 200\n",
      "Request completed: 200\n"
     ]
    },
    {
     "name": "stderr",
     "output_type": "stream",
     "text": [
      "COLLECTING METRICS:   9%|▉         | 106/1202 [00:07<01:22, 13.25it/s]"
     ]
    },
    {
     "name": "stdout",
     "output_type": "stream",
     "text": [
      "Request completed: 200\n",
      "Request completed: 200\n"
     ]
    },
    {
     "name": "stderr",
     "output_type": "stream",
     "text": [
      "COLLECTING METRICS:   9%|▉         | 108/1202 [00:08<01:24, 12.91it/s]"
     ]
    },
    {
     "name": "stdout",
     "output_type": "stream",
     "text": [
      "Request completed: 200\n"
     ]
    },
    {
     "name": "stderr",
     "output_type": "stream",
     "text": [
      "COLLECTING METRICS:   9%|▉         | 110/1202 [00:08<01:21, 13.37it/s]"
     ]
    },
    {
     "name": "stdout",
     "output_type": "stream",
     "text": [
      "Request completed: 200\n",
      "Request completed: 200\n",
      "Request completed: 200\n"
     ]
    },
    {
     "name": "stderr",
     "output_type": "stream",
     "text": [
      "COLLECTING METRICS:   9%|▉         | 112/1202 [00:08<01:23, 13.05it/s]"
     ]
    },
    {
     "name": "stdout",
     "output_type": "stream",
     "text": [
      "Request completed: 200\n",
      "Request completed: 200\n"
     ]
    },
    {
     "name": "stderr",
     "output_type": "stream",
     "text": [
      "COLLECTING METRICS:   9%|▉         | 114/1202 [00:08<01:23, 13.02it/s]"
     ]
    },
    {
     "name": "stdout",
     "output_type": "stream",
     "text": [
      "Request completed: 200\n"
     ]
    },
    {
     "name": "stderr",
     "output_type": "stream",
     "text": [
      "COLLECTING METRICS:  10%|▉         | 116/1202 [00:08<01:22, 13.10it/s]"
     ]
    },
    {
     "name": "stdout",
     "output_type": "stream",
     "text": [
      "Request completed: 200\n",
      "Request completed: 200\n",
      "Request completed: 200\n"
     ]
    },
    {
     "name": "stderr",
     "output_type": "stream",
     "text": [
      "COLLECTING METRICS:  10%|▉         | 118/1202 [00:08<01:24, 12.90it/s]"
     ]
    },
    {
     "name": "stdout",
     "output_type": "stream",
     "text": [
      "Request completed: 200\n",
      "Request completed: 200\n"
     ]
    },
    {
     "name": "stderr",
     "output_type": "stream",
     "text": [
      "COLLECTING METRICS:  10%|▉         | 120/1202 [00:08<01:25, 12.70it/s]"
     ]
    },
    {
     "name": "stdout",
     "output_type": "stream",
     "text": [
      "Request completed: 200\n"
     ]
    },
    {
     "name": "stderr",
     "output_type": "stream",
     "text": [
      "COLLECTING METRICS:  10%|█         | 122/1202 [00:09<01:23, 13.00it/s]"
     ]
    },
    {
     "name": "stdout",
     "output_type": "stream",
     "text": [
      "Request completed: 200\n",
      "Request completed: 200\n",
      "Request completed: 200\n"
     ]
    },
    {
     "name": "stderr",
     "output_type": "stream",
     "text": [
      "COLLECTING METRICS:  10%|█         | 124/1202 [00:09<01:25, 12.67it/s]"
     ]
    },
    {
     "name": "stdout",
     "output_type": "stream",
     "text": [
      "Request completed: 200\n",
      "Request completed: 200\n"
     ]
    },
    {
     "name": "stderr",
     "output_type": "stream",
     "text": [
      "COLLECTING METRICS:  10%|█         | 126/1202 [00:09<01:22, 13.00it/s]"
     ]
    },
    {
     "name": "stdout",
     "output_type": "stream",
     "text": [
      "Request completed: 200\n"
     ]
    },
    {
     "name": "stderr",
     "output_type": "stream",
     "text": [
      "COLLECTING METRICS:  11%|█         | 128/1202 [00:09<01:24, 12.64it/s]"
     ]
    },
    {
     "name": "stdout",
     "output_type": "stream",
     "text": [
      "Request completed: 200\n",
      "Request completed: 200\n",
      "Request completed: 200\n"
     ]
    },
    {
     "name": "stderr",
     "output_type": "stream",
     "text": [
      "COLLECTING METRICS:  11%|█         | 130/1202 [00:09<01:26, 12.46it/s]"
     ]
    },
    {
     "name": "stdout",
     "output_type": "stream",
     "text": [
      "Request completed: 200\n",
      "Request completed: 200\n"
     ]
    },
    {
     "name": "stderr",
     "output_type": "stream",
     "text": [
      "COLLECTING METRICS:  11%|█         | 132/1202 [00:09<01:24, 12.64it/s]"
     ]
    },
    {
     "name": "stdout",
     "output_type": "stream",
     "text": [
      "Request completed: 200\n"
     ]
    },
    {
     "name": "stderr",
     "output_type": "stream",
     "text": [
      "COLLECTING METRICS:  11%|█         | 134/1202 [00:10<01:24, 12.57it/s]"
     ]
    },
    {
     "name": "stdout",
     "output_type": "stream",
     "text": [
      "Request completed: 200\n",
      "Request completed: 200\n",
      "Request completed: 200\n"
     ]
    },
    {
     "name": "stderr",
     "output_type": "stream",
     "text": [
      "COLLECTING METRICS:  11%|█▏        | 136/1202 [00:10<01:23, 12.79it/s]"
     ]
    },
    {
     "name": "stdout",
     "output_type": "stream",
     "text": [
      "Request completed: 200\n",
      "Request completed: 200\n"
     ]
    },
    {
     "name": "stderr",
     "output_type": "stream",
     "text": [
      "COLLECTING METRICS:  11%|█▏        | 138/1202 [00:10<01:25, 12.48it/s]"
     ]
    },
    {
     "name": "stdout",
     "output_type": "stream",
     "text": [
      "Request completed: 200\n"
     ]
    },
    {
     "name": "stderr",
     "output_type": "stream",
     "text": [
      "COLLECTING METRICS:  12%|█▏        | 140/1202 [00:10<01:23, 12.77it/s]"
     ]
    },
    {
     "name": "stdout",
     "output_type": "stream",
     "text": [
      "Request completed: 200\n",
      "Request completed: 200\n",
      "Request completed: 200\n"
     ]
    },
    {
     "name": "stderr",
     "output_type": "stream",
     "text": [
      "COLLECTING METRICS:  12%|█▏        | 142/1202 [00:10<01:23, 12.64it/s]"
     ]
    },
    {
     "name": "stdout",
     "output_type": "stream",
     "text": [
      "Request completed: 200\n",
      "Request completed: 200\n"
     ]
    },
    {
     "name": "stderr",
     "output_type": "stream",
     "text": [
      "COLLECTING METRICS:  12%|█▏        | 144/1202 [00:10<01:23, 12.64it/s]"
     ]
    },
    {
     "name": "stdout",
     "output_type": "stream",
     "text": [
      "Request completed: 200\n"
     ]
    },
    {
     "name": "stderr",
     "output_type": "stream",
     "text": [
      "COLLECTING METRICS:  12%|█▏        | 146/1202 [00:10<01:21, 12.99it/s]"
     ]
    },
    {
     "name": "stdout",
     "output_type": "stream",
     "text": [
      "Request completed: 200\n",
      "Request completed: 200\n",
      "Request completed: 200\n"
     ]
    },
    {
     "name": "stderr",
     "output_type": "stream",
     "text": [
      "COLLECTING METRICS:  12%|█▏        | 148/1202 [00:11<01:20, 13.07it/s]"
     ]
    },
    {
     "name": "stdout",
     "output_type": "stream",
     "text": [
      "Request completed: 200\n",
      "Request completed: 200\n"
     ]
    },
    {
     "name": "stderr",
     "output_type": "stream",
     "text": [
      "COLLECTING METRICS:  12%|█▏        | 150/1202 [00:11<01:19, 13.18it/s]"
     ]
    },
    {
     "name": "stdout",
     "output_type": "stream",
     "text": [
      "Request completed: 200\n"
     ]
    },
    {
     "name": "stderr",
     "output_type": "stream",
     "text": [
      "COLLECTING METRICS:  13%|█▎        | 152/1202 [00:11<01:23, 12.61it/s]"
     ]
    },
    {
     "name": "stdout",
     "output_type": "stream",
     "text": [
      "Request completed: 200\n",
      "Request completed: 200\n",
      "Request completed: 200\n"
     ]
    },
    {
     "name": "stderr",
     "output_type": "stream",
     "text": [
      "COLLECTING METRICS:  13%|█▎        | 154/1202 [00:11<01:20, 13.00it/s]"
     ]
    },
    {
     "name": "stdout",
     "output_type": "stream",
     "text": [
      "Request completed: 200\n",
      "Request completed: 200\n"
     ]
    },
    {
     "name": "stderr",
     "output_type": "stream",
     "text": [
      "COLLECTING METRICS:  13%|█▎        | 156/1202 [00:11<01:18, 13.24it/s]"
     ]
    },
    {
     "name": "stdout",
     "output_type": "stream",
     "text": [
      "Request completed: 200\n"
     ]
    },
    {
     "name": "stderr",
     "output_type": "stream",
     "text": [
      "COLLECTING METRICS:  13%|█▎        | 158/1202 [00:11<01:17, 13.43it/s]"
     ]
    },
    {
     "name": "stdout",
     "output_type": "stream",
     "text": [
      "Request completed: 200\n",
      "Request completed: 200\n",
      "Request completed: 200\n"
     ]
    },
    {
     "name": "stderr",
     "output_type": "stream",
     "text": [
      "COLLECTING METRICS:  13%|█▎        | 160/1202 [00:12<01:21, 12.80it/s]"
     ]
    },
    {
     "name": "stdout",
     "output_type": "stream",
     "text": [
      "Request completed: 200\n",
      "Request completed: 200\n"
     ]
    },
    {
     "name": "stderr",
     "output_type": "stream",
     "text": [
      "COLLECTING METRICS:  13%|█▎        | 162/1202 [00:12<01:20, 12.90it/s]"
     ]
    },
    {
     "name": "stdout",
     "output_type": "stream",
     "text": [
      "Request completed: 200\n"
     ]
    },
    {
     "name": "stderr",
     "output_type": "stream",
     "text": [
      "COLLECTING METRICS:  14%|█▎        | 164/1202 [00:12<01:18, 13.30it/s]"
     ]
    },
    {
     "name": "stdout",
     "output_type": "stream",
     "text": [
      "Request completed: 200\n",
      "Request completed: 200\n",
      "Request completed: 200\n"
     ]
    },
    {
     "name": "stderr",
     "output_type": "stream",
     "text": [
      "COLLECTING METRICS:  14%|█▍        | 166/1202 [00:12<01:22, 12.62it/s]"
     ]
    },
    {
     "name": "stdout",
     "output_type": "stream",
     "text": [
      "Request completed: 200\n",
      "Request completed: 200\n"
     ]
    },
    {
     "name": "stderr",
     "output_type": "stream",
     "text": [
      "COLLECTING METRICS:  14%|█▍        | 168/1202 [00:12<01:19, 12.97it/s]"
     ]
    },
    {
     "name": "stdout",
     "output_type": "stream",
     "text": [
      "Request completed: 200\n"
     ]
    },
    {
     "name": "stderr",
     "output_type": "stream",
     "text": [
      "COLLECTING METRICS:  14%|█▍        | 170/1202 [00:12<01:19, 12.99it/s]"
     ]
    },
    {
     "name": "stdout",
     "output_type": "stream",
     "text": [
      "Request completed: 200\n",
      "Request completed: 200\n",
      "Request completed: 200\n"
     ]
    },
    {
     "name": "stderr",
     "output_type": "stream",
     "text": [
      "COLLECTING METRICS:  14%|█▍        | 172/1202 [00:12<01:16, 13.44it/s]"
     ]
    },
    {
     "name": "stdout",
     "output_type": "stream",
     "text": [
      "Request completed: 200\n",
      "Request completed: 200\n"
     ]
    },
    {
     "name": "stderr",
     "output_type": "stream",
     "text": [
      "COLLECTING METRICS:  14%|█▍        | 174/1202 [00:13<01:15, 13.57it/s]"
     ]
    },
    {
     "name": "stdout",
     "output_type": "stream",
     "text": [
      "Request completed: 200\n"
     ]
    },
    {
     "name": "stderr",
     "output_type": "stream",
     "text": [
      "COLLECTING METRICS:  15%|█▍        | 176/1202 [00:13<01:16, 13.35it/s]"
     ]
    },
    {
     "name": "stdout",
     "output_type": "stream",
     "text": [
      "Request completed: 200\n",
      "Request completed: 200\n",
      "Request completed: 200\n"
     ]
    },
    {
     "name": "stderr",
     "output_type": "stream",
     "text": [
      "COLLECTING METRICS:  15%|█▍        | 178/1202 [00:13<01:16, 13.43it/s]"
     ]
    },
    {
     "name": "stdout",
     "output_type": "stream",
     "text": [
      "Request completed: 200\n",
      "Request completed: 200\n"
     ]
    },
    {
     "name": "stderr",
     "output_type": "stream",
     "text": [
      "COLLECTING METRICS:  15%|█▍        | 180/1202 [00:13<01:22, 12.46it/s]"
     ]
    },
    {
     "name": "stdout",
     "output_type": "stream",
     "text": [
      "Request completed: 200\n"
     ]
    },
    {
     "name": "stderr",
     "output_type": "stream",
     "text": [
      "COLLECTING METRICS:  15%|█▌        | 182/1202 [00:13<01:22, 12.35it/s]"
     ]
    },
    {
     "name": "stdout",
     "output_type": "stream",
     "text": [
      "Request completed: 200\n",
      "Request completed: 200\n",
      "Request completed: 200\n"
     ]
    },
    {
     "name": "stderr",
     "output_type": "stream",
     "text": [
      "COLLECTING METRICS:  15%|█▌        | 184/1202 [00:13<01:19, 12.77it/s]"
     ]
    },
    {
     "name": "stdout",
     "output_type": "stream",
     "text": [
      "Request completed: 200\n",
      "Request completed: 200\n"
     ]
    },
    {
     "name": "stderr",
     "output_type": "stream",
     "text": [
      "COLLECTING METRICS:  15%|█▌        | 186/1202 [00:14<01:17, 13.13it/s]"
     ]
    },
    {
     "name": "stdout",
     "output_type": "stream",
     "text": [
      "Request completed: 200\n"
     ]
    },
    {
     "name": "stderr",
     "output_type": "stream",
     "text": [
      "COLLECTING METRICS:  16%|█▌        | 188/1202 [00:14<01:14, 13.59it/s]"
     ]
    },
    {
     "name": "stdout",
     "output_type": "stream",
     "text": [
      "Request completed: 200\n",
      "Request completed: 200\n",
      "Request completed: 200\n"
     ]
    },
    {
     "name": "stderr",
     "output_type": "stream",
     "text": [
      "COLLECTING METRICS:  16%|█▌        | 190/1202 [00:14<01:13, 13.69it/s]"
     ]
    },
    {
     "name": "stdout",
     "output_type": "stream",
     "text": [
      "Request completed: 200\n",
      "Request completed: 200\n"
     ]
    },
    {
     "name": "stderr",
     "output_type": "stream",
     "text": [
      "COLLECTING METRICS:  16%|█▌        | 192/1202 [00:14<01:14, 13.57it/s]"
     ]
    },
    {
     "name": "stdout",
     "output_type": "stream",
     "text": [
      "Request completed: 200\n"
     ]
    },
    {
     "name": "stderr",
     "output_type": "stream",
     "text": [
      "COLLECTING METRICS:  16%|█▌        | 194/1202 [00:14<01:14, 13.57it/s]"
     ]
    },
    {
     "name": "stdout",
     "output_type": "stream",
     "text": [
      "Request completed: 200\n",
      "Request completed: 200\n",
      "Request completed: 200\n"
     ]
    },
    {
     "name": "stderr",
     "output_type": "stream",
     "text": [
      "COLLECTING METRICS:  16%|█▋        | 196/1202 [00:14<01:16, 13.21it/s]"
     ]
    },
    {
     "name": "stdout",
     "output_type": "stream",
     "text": [
      "Request completed: 200\n",
      "Request completed: 200\n"
     ]
    },
    {
     "name": "stderr",
     "output_type": "stream",
     "text": [
      "COLLECTING METRICS:  16%|█▋        | 198/1202 [00:14<01:15, 13.35it/s]"
     ]
    },
    {
     "name": "stdout",
     "output_type": "stream",
     "text": [
      "Request completed: 200\n"
     ]
    },
    {
     "name": "stderr",
     "output_type": "stream",
     "text": [
      "COLLECTING METRICS:  17%|█▋        | 200/1202 [00:15<01:14, 13.39it/s]"
     ]
    },
    {
     "name": "stdout",
     "output_type": "stream",
     "text": [
      "Request completed: 200\n",
      "Request completed: 200\n",
      "Request completed: 200\n"
     ]
    },
    {
     "name": "stderr",
     "output_type": "stream",
     "text": [
      "COLLECTING METRICS:  17%|█▋        | 202/1202 [00:15<01:13, 13.53it/s]"
     ]
    },
    {
     "name": "stdout",
     "output_type": "stream",
     "text": [
      "Request completed: 200\n",
      "Request completed: 200\n",
      "Request completed: 200\n"
     ]
    },
    {
     "name": "stderr",
     "output_type": "stream",
     "text": [
      "COLLECTING METRICS:  17%|█▋        | 206/1202 [00:15<01:11, 13.99it/s]"
     ]
    },
    {
     "name": "stdout",
     "output_type": "stream",
     "text": [
      "Request completed: 200\n",
      "Request completed: 200\n",
      "Request completed: 200\n"
     ]
    },
    {
     "name": "stderr",
     "output_type": "stream",
     "text": [
      "COLLECTING METRICS:  17%|█▋        | 210/1202 [00:15<01:14, 13.35it/s]"
     ]
    },
    {
     "name": "stdout",
     "output_type": "stream",
     "text": [
      "Request completed: 200\n",
      "Request completed: 200\n",
      "Request completed: 200\n"
     ]
    },
    {
     "name": "stderr",
     "output_type": "stream",
     "text": [
      "COLLECTING METRICS:  18%|█▊        | 212/1202 [00:15<01:14, 13.24it/s]"
     ]
    },
    {
     "name": "stdout",
     "output_type": "stream",
     "text": [
      "Request completed: 200\n",
      "Request completed: 200\n",
      "Request completed: 200\n"
     ]
    },
    {
     "name": "stderr",
     "output_type": "stream",
     "text": [
      "COLLECTING METRICS:  18%|█▊        | 216/1202 [00:16<01:19, 12.35it/s]"
     ]
    },
    {
     "name": "stdout",
     "output_type": "stream",
     "text": [
      "Request completed: 200\n",
      "Request completed: 200\n",
      "Request completed: 200\n"
     ]
    },
    {
     "name": "stderr",
     "output_type": "stream",
     "text": [
      "COLLECTING METRICS:  18%|█▊        | 218/1202 [00:16<01:18, 12.55it/s]"
     ]
    },
    {
     "name": "stdout",
     "output_type": "stream",
     "text": [
      "Request completed: 200\n",
      "Request completed: 200\n",
      "Request completed: 200\n"
     ]
    },
    {
     "name": "stderr",
     "output_type": "stream",
     "text": [
      "COLLECTING METRICS:  18%|█▊        | 222/1202 [00:16<01:17, 12.66it/s]"
     ]
    },
    {
     "name": "stdout",
     "output_type": "stream",
     "text": [
      "Request completed: 200\n",
      "Request completed: 200\n",
      "Request completed: 200\n"
     ]
    },
    {
     "name": "stderr",
     "output_type": "stream",
     "text": [
      "COLLECTING METRICS:  19%|█▊        | 224/1202 [00:16<01:16, 12.75it/s]"
     ]
    },
    {
     "name": "stdout",
     "output_type": "stream",
     "text": [
      "Request completed: 200\n",
      "Request completed: 200\n",
      "Request completed: 200\n"
     ]
    },
    {
     "name": "stderr",
     "output_type": "stream",
     "text": [
      "COLLECTING METRICS:  19%|█▉        | 228/1202 [00:17<01:14, 13.03it/s]"
     ]
    },
    {
     "name": "stdout",
     "output_type": "stream",
     "text": [
      "Request completed: 200\n",
      "Request completed: 200\n",
      "Request completed: 200\n"
     ]
    },
    {
     "name": "stderr",
     "output_type": "stream",
     "text": [
      "COLLECTING METRICS:  19%|█▉        | 230/1202 [00:17<01:13, 13.25it/s]"
     ]
    },
    {
     "name": "stdout",
     "output_type": "stream",
     "text": [
      "Request completed: 200\n",
      "Request completed: 200\n",
      "Request completed: 200\n"
     ]
    },
    {
     "name": "stderr",
     "output_type": "stream",
     "text": [
      "COLLECTING METRICS:  19%|█▉        | 234/1202 [00:17<01:16, 12.64it/s]"
     ]
    },
    {
     "name": "stdout",
     "output_type": "stream",
     "text": [
      "Request completed: 200\n",
      "Request completed: 200\n",
      "Request completed: 200\n"
     ]
    },
    {
     "name": "stderr",
     "output_type": "stream",
     "text": [
      "COLLECTING METRICS:  20%|█▉        | 236/1202 [00:17<01:18, 12.25it/s]"
     ]
    },
    {
     "name": "stdout",
     "output_type": "stream",
     "text": [
      "Request completed: 200\n",
      "Request completed: 200\n",
      "Request completed: 200\n"
     ]
    },
    {
     "name": "stderr",
     "output_type": "stream",
     "text": [
      "COLLECTING METRICS:  20%|█▉        | 240/1202 [00:18<01:15, 12.76it/s]"
     ]
    },
    {
     "name": "stdout",
     "output_type": "stream",
     "text": [
      "Request completed: 200\n",
      "Request completed: 200\n",
      "Request completed: 200\n"
     ]
    },
    {
     "name": "stderr",
     "output_type": "stream",
     "text": [
      "COLLECTING METRICS:  20%|██        | 242/1202 [00:18<01:14, 12.94it/s]"
     ]
    },
    {
     "name": "stdout",
     "output_type": "stream",
     "text": [
      "Request completed: 200\n",
      "Request completed: 200\n",
      "Request completed: 200\n"
     ]
    },
    {
     "name": "stderr",
     "output_type": "stream",
     "text": [
      "COLLECTING METRICS:  20%|██        | 246/1202 [00:18<01:14, 12.86it/s]"
     ]
    },
    {
     "name": "stdout",
     "output_type": "stream",
     "text": [
      "Request completed: 200\n",
      "Request completed: 200\n",
      "Request completed: 200\n"
     ]
    },
    {
     "name": "stderr",
     "output_type": "stream",
     "text": [
      "COLLECTING METRICS:  21%|██        | 248/1202 [00:18<01:15, 12.66it/s]"
     ]
    },
    {
     "name": "stdout",
     "output_type": "stream",
     "text": [
      "Request completed: 200\n",
      "Request completed: 200\n",
      "Request completed: 200\n"
     ]
    },
    {
     "name": "stderr",
     "output_type": "stream",
     "text": [
      "COLLECTING METRICS:  21%|██        | 252/1202 [00:19<01:12, 13.02it/s]"
     ]
    },
    {
     "name": "stdout",
     "output_type": "stream",
     "text": [
      "Request completed: 200\n",
      "Request completed: 200\n",
      "Request completed: 200\n"
     ]
    },
    {
     "name": "stderr",
     "output_type": "stream",
     "text": [
      "COLLECTING METRICS:  21%|██        | 254/1202 [00:19<01:12, 13.14it/s]"
     ]
    },
    {
     "name": "stdout",
     "output_type": "stream",
     "text": [
      "Request completed: 200\n",
      "Request completed: 200\n",
      "Request completed: 200\n"
     ]
    },
    {
     "name": "stderr",
     "output_type": "stream",
     "text": [
      "COLLECTING METRICS:  21%|██▏       | 258/1202 [00:19<01:16, 12.33it/s]"
     ]
    },
    {
     "name": "stdout",
     "output_type": "stream",
     "text": [
      "Request completed: 200\n",
      "Request completed: 200\n",
      "Request completed: 200\n"
     ]
    },
    {
     "name": "stderr",
     "output_type": "stream",
     "text": [
      "COLLECTING METRICS:  22%|██▏       | 260/1202 [00:19<01:17, 12.23it/s]"
     ]
    },
    {
     "name": "stdout",
     "output_type": "stream",
     "text": [
      "Request completed: 200\n",
      "Request completed: 200\n",
      "Request completed: 200\n"
     ]
    },
    {
     "name": "stderr",
     "output_type": "stream",
     "text": [
      "COLLECTING METRICS:  22%|██▏       | 264/1202 [00:20<01:16, 12.22it/s]"
     ]
    },
    {
     "name": "stdout",
     "output_type": "stream",
     "text": [
      "Request completed: 200\n",
      "Request completed: 200\n",
      "Request completed: 200\n"
     ]
    },
    {
     "name": "stderr",
     "output_type": "stream",
     "text": [
      "COLLECTING METRICS:  22%|██▏       | 266/1202 [00:20<01:18, 11.86it/s]"
     ]
    },
    {
     "name": "stdout",
     "output_type": "stream",
     "text": [
      "Request completed: 200\n",
      "Request completed: 200\n",
      "Request completed: 200\n"
     ]
    },
    {
     "name": "stderr",
     "output_type": "stream",
     "text": [
      "COLLECTING METRICS:  22%|██▏       | 270/1202 [00:20<01:15, 12.29it/s]"
     ]
    },
    {
     "name": "stdout",
     "output_type": "stream",
     "text": [
      "Request completed: 200\n",
      "Request completed: 200\n",
      "Request completed: 200\n"
     ]
    },
    {
     "name": "stderr",
     "output_type": "stream",
     "text": [
      "COLLECTING METRICS:  23%|██▎       | 272/1202 [00:20<01:13, 12.63it/s]"
     ]
    },
    {
     "name": "stdout",
     "output_type": "stream",
     "text": [
      "Request completed: 200\n",
      "Request completed: 200\n",
      "Request completed: 200\n"
     ]
    },
    {
     "name": "stderr",
     "output_type": "stream",
     "text": [
      "COLLECTING METRICS:  23%|██▎       | 276/1202 [00:21<01:07, 13.63it/s]"
     ]
    },
    {
     "name": "stdout",
     "output_type": "stream",
     "text": [
      "Request completed: 200\n",
      "Request completed: 200\n",
      "Request completed: 200\n",
      "Request completed: 200\n"
     ]
    },
    {
     "name": "stderr",
     "output_type": "stream",
     "text": [
      "COLLECTING METRICS:  23%|██▎       | 280/1202 [00:21<01:05, 14.01it/s]"
     ]
    },
    {
     "name": "stdout",
     "output_type": "stream",
     "text": [
      "Request completed: 200\n",
      "Request completed: 200\n",
      "Request completed: 200\n"
     ]
    },
    {
     "name": "stderr",
     "output_type": "stream",
     "text": [
      "COLLECTING METRICS:  23%|██▎       | 282/1202 [00:21<01:07, 13.61it/s]"
     ]
    },
    {
     "name": "stdout",
     "output_type": "stream",
     "text": [
      "Request completed: 200\n",
      "Request completed: 200\n",
      "Request completed: 200\n"
     ]
    },
    {
     "name": "stderr",
     "output_type": "stream",
     "text": [
      "COLLECTING METRICS:  24%|██▍       | 286/1202 [00:21<01:07, 13.52it/s]"
     ]
    },
    {
     "name": "stdout",
     "output_type": "stream",
     "text": [
      "Request completed: 200\n",
      "Request completed: 200\n",
      "Request completed: 200\n"
     ]
    },
    {
     "name": "stderr",
     "output_type": "stream",
     "text": [
      "COLLECTING METRICS:  24%|██▍       | 288/1202 [00:21<01:06, 13.80it/s]"
     ]
    },
    {
     "name": "stdout",
     "output_type": "stream",
     "text": [
      "Request completed: 200\n",
      "Request completed: 200\n",
      "Request completed: 200\n"
     ]
    },
    {
     "name": "stderr",
     "output_type": "stream",
     "text": [
      "COLLECTING METRICS:  24%|██▍       | 292/1202 [00:22<01:05, 13.86it/s]"
     ]
    },
    {
     "name": "stdout",
     "output_type": "stream",
     "text": [
      "Request completed: 200\n",
      "Request completed: 200\n",
      "Request completed: 200\n"
     ]
    },
    {
     "name": "stderr",
     "output_type": "stream",
     "text": [
      "COLLECTING METRICS:  24%|██▍       | 294/1202 [00:22<01:07, 13.52it/s]"
     ]
    },
    {
     "name": "stdout",
     "output_type": "stream",
     "text": [
      "Request completed: 200\n",
      "Request completed: 200\n",
      "Request completed: 200\n"
     ]
    },
    {
     "name": "stderr",
     "output_type": "stream",
     "text": [
      "COLLECTING METRICS:  25%|██▍       | 298/1202 [00:22<01:08, 13.13it/s]"
     ]
    },
    {
     "name": "stdout",
     "output_type": "stream",
     "text": [
      "Request completed: 200\n",
      "Request completed: 200\n",
      "Request completed: 200\n"
     ]
    },
    {
     "name": "stderr",
     "output_type": "stream",
     "text": [
      "COLLECTING METRICS:  25%|██▍       | 300/1202 [00:22<01:09, 12.90it/s]"
     ]
    },
    {
     "name": "stdout",
     "output_type": "stream",
     "text": [
      "Request completed: 200\n",
      "Request completed: 200\n",
      "Request completed: 200\n"
     ]
    },
    {
     "name": "stderr",
     "output_type": "stream",
     "text": [
      "COLLECTING METRICS:  25%|██▌       | 304/1202 [00:23<01:09, 12.97it/s]"
     ]
    },
    {
     "name": "stdout",
     "output_type": "stream",
     "text": [
      "Request completed: 200\n",
      "Request completed: 200\n",
      "Request completed: 200\n"
     ]
    },
    {
     "name": "stderr",
     "output_type": "stream",
     "text": [
      "COLLECTING METRICS:  25%|██▌       | 306/1202 [00:23<01:06, 13.49it/s]"
     ]
    },
    {
     "name": "stdout",
     "output_type": "stream",
     "text": [
      "Request completed: 200\n",
      "Request completed: 200\n",
      "Request completed: 200\n"
     ]
    },
    {
     "name": "stderr",
     "output_type": "stream",
     "text": [
      "COLLECTING METRICS:  26%|██▌       | 310/1202 [00:23<01:06, 13.39it/s]"
     ]
    },
    {
     "name": "stdout",
     "output_type": "stream",
     "text": [
      "Request completed: 200\n",
      "Request completed: 200\n",
      "Request completed: 200\n"
     ]
    },
    {
     "name": "stderr",
     "output_type": "stream",
     "text": [
      "COLLECTING METRICS:  26%|██▌       | 312/1202 [00:23<01:07, 13.14it/s]"
     ]
    },
    {
     "name": "stdout",
     "output_type": "stream",
     "text": [
      "Request completed: 200\n",
      "Request completed: 200\n",
      "Request completed: 200\n"
     ]
    },
    {
     "name": "stderr",
     "output_type": "stream",
     "text": [
      "COLLECTING METRICS:  26%|██▋       | 316/1202 [00:23<01:05, 13.58it/s]"
     ]
    },
    {
     "name": "stdout",
     "output_type": "stream",
     "text": [
      "Request completed: 200\n",
      "Request completed: 200\n",
      "Request completed: 200\n"
     ]
    },
    {
     "name": "stderr",
     "output_type": "stream",
     "text": [
      "COLLECTING METRICS:  26%|██▋       | 318/1202 [00:24<01:09, 12.74it/s]"
     ]
    },
    {
     "name": "stdout",
     "output_type": "stream",
     "text": [
      "Request completed: 200\n",
      "Request completed: 200\n",
      "Request completed: 200\n"
     ]
    },
    {
     "name": "stderr",
     "output_type": "stream",
     "text": [
      "COLLECTING METRICS:  27%|██▋       | 322/1202 [00:24<01:08, 12.93it/s]"
     ]
    },
    {
     "name": "stdout",
     "output_type": "stream",
     "text": [
      "Request completed: 200\n",
      "Request completed: 200\n",
      "Request completed: 200\n"
     ]
    },
    {
     "name": "stderr",
     "output_type": "stream",
     "text": [
      "COLLECTING METRICS:  27%|██▋       | 324/1202 [00:24<01:05, 13.31it/s]"
     ]
    },
    {
     "name": "stdout",
     "output_type": "stream",
     "text": [
      "Request completed: 200\n",
      "Request completed: 200\n",
      "Request completed: 200\n"
     ]
    },
    {
     "name": "stderr",
     "output_type": "stream",
     "text": [
      "COLLECTING METRICS:  27%|██▋       | 328/1202 [00:24<01:03, 13.71it/s]"
     ]
    },
    {
     "name": "stdout",
     "output_type": "stream",
     "text": [
      "Request completed: 200\n",
      "Request completed: 200\n",
      "Request completed: 200\n"
     ]
    },
    {
     "name": "stderr",
     "output_type": "stream",
     "text": [
      "COLLECTING METRICS:  27%|██▋       | 330/1202 [00:25<01:04, 13.43it/s]"
     ]
    },
    {
     "name": "stdout",
     "output_type": "stream",
     "text": [
      "Request completed: 200\n",
      "Request completed: 200\n",
      "Request completed: 200\n"
     ]
    },
    {
     "name": "stderr",
     "output_type": "stream",
     "text": [
      "COLLECTING METRICS:  28%|██▊       | 334/1202 [00:25<01:03, 13.59it/s]"
     ]
    },
    {
     "name": "stdout",
     "output_type": "stream",
     "text": [
      "Request completed: 200\n",
      "Request completed: 200\n",
      "Request completed: 200\n"
     ]
    },
    {
     "name": "stderr",
     "output_type": "stream",
     "text": [
      "COLLECTING METRICS:  28%|██▊       | 336/1202 [00:25<01:01, 14.14it/s]"
     ]
    },
    {
     "name": "stdout",
     "output_type": "stream",
     "text": [
      "Request completed: 200\n",
      "Request completed: 200\n",
      "Request completed: 200\n"
     ]
    },
    {
     "name": "stderr",
     "output_type": "stream",
     "text": [
      "COLLECTING METRICS:  28%|██▊       | 340/1202 [00:25<01:03, 13.54it/s]"
     ]
    },
    {
     "name": "stdout",
     "output_type": "stream",
     "text": [
      "Request completed: 200\n",
      "Request completed: 200\n",
      "Request completed: 200\n"
     ]
    },
    {
     "name": "stderr",
     "output_type": "stream",
     "text": [
      "COLLECTING METRICS:  28%|██▊       | 342/1202 [00:25<01:07, 12.81it/s]"
     ]
    },
    {
     "name": "stdout",
     "output_type": "stream",
     "text": [
      "Request completed: 200\n",
      "Request completed: 200\n",
      "Request completed: 200\n"
     ]
    },
    {
     "name": "stderr",
     "output_type": "stream",
     "text": [
      "COLLECTING METRICS:  29%|██▉       | 346/1202 [00:26<01:08, 12.57it/s]"
     ]
    },
    {
     "name": "stdout",
     "output_type": "stream",
     "text": [
      "Request completed: 200\n",
      "Request completed: 200\n",
      "Request completed: 200\n"
     ]
    },
    {
     "name": "stderr",
     "output_type": "stream",
     "text": [
      "COLLECTING METRICS:  29%|██▉       | 348/1202 [00:26<01:07, 12.69it/s]"
     ]
    },
    {
     "name": "stdout",
     "output_type": "stream",
     "text": [
      "Request completed: 200\n",
      "Request completed: 200\n",
      "Request completed: 200\n"
     ]
    },
    {
     "name": "stderr",
     "output_type": "stream",
     "text": [
      "COLLECTING METRICS:  29%|██▉       | 352/1202 [00:26<01:02, 13.50it/s]"
     ]
    },
    {
     "name": "stdout",
     "output_type": "stream",
     "text": [
      "Request completed: 200\n",
      "Request completed: 200\n",
      "Request completed: 200\n",
      "Request completed: 200\n"
     ]
    },
    {
     "name": "stderr",
     "output_type": "stream",
     "text": [
      "COLLECTING METRICS:  30%|██▉       | 356/1202 [00:27<01:03, 13.37it/s]"
     ]
    },
    {
     "name": "stdout",
     "output_type": "stream",
     "text": [
      "Request completed: 200\n",
      "Request completed: 200\n",
      "Request completed: 200\n"
     ]
    },
    {
     "name": "stderr",
     "output_type": "stream",
     "text": [
      "COLLECTING METRICS:  30%|██▉       | 358/1202 [00:27<01:04, 13.03it/s]"
     ]
    },
    {
     "name": "stdout",
     "output_type": "stream",
     "text": [
      "Request completed: 200\n",
      "Request completed: 200\n",
      "Request completed: 200\n"
     ]
    },
    {
     "name": "stderr",
     "output_type": "stream",
     "text": [
      "COLLECTING METRICS:  30%|███       | 362/1202 [00:27<01:05, 12.89it/s]"
     ]
    },
    {
     "name": "stdout",
     "output_type": "stream",
     "text": [
      "Request completed: 200\n",
      "Request completed: 200\n",
      "Request completed: 200\n"
     ]
    },
    {
     "name": "stderr",
     "output_type": "stream",
     "text": [
      "COLLECTING METRICS:  30%|███       | 364/1202 [00:27<01:02, 13.50it/s]"
     ]
    },
    {
     "name": "stdout",
     "output_type": "stream",
     "text": [
      "Request completed: 200\n",
      "Request completed: 200\n",
      "Request completed: 200\n"
     ]
    },
    {
     "name": "stderr",
     "output_type": "stream",
     "text": [
      "COLLECTING METRICS:  31%|███       | 368/1202 [00:27<01:05, 12.79it/s]"
     ]
    },
    {
     "name": "stdout",
     "output_type": "stream",
     "text": [
      "Request completed: 200\n",
      "Request completed: 200\n",
      "Request completed: 200\n"
     ]
    },
    {
     "name": "stderr",
     "output_type": "stream",
     "text": [
      "COLLECTING METRICS:  31%|███       | 370/1202 [00:28<01:03, 13.01it/s]"
     ]
    },
    {
     "name": "stdout",
     "output_type": "stream",
     "text": [
      "Request completed: 200\n",
      "Request completed: 200\n",
      "Request completed: 200\n"
     ]
    },
    {
     "name": "stderr",
     "output_type": "stream",
     "text": [
      "COLLECTING METRICS:  31%|███       | 374/1202 [00:28<01:02, 13.26it/s]"
     ]
    },
    {
     "name": "stdout",
     "output_type": "stream",
     "text": [
      "Request completed: 200\n",
      "Request completed: 200\n",
      "Request completed: 200\n"
     ]
    },
    {
     "name": "stderr",
     "output_type": "stream",
     "text": [
      "COLLECTING METRICS:  31%|███▏      | 376/1202 [00:28<01:02, 13.26it/s]"
     ]
    },
    {
     "name": "stdout",
     "output_type": "stream",
     "text": [
      "Request completed: 200\n",
      "Request completed: 200\n",
      "Request completed: 200\n"
     ]
    },
    {
     "name": "stderr",
     "output_type": "stream",
     "text": [
      "COLLECTING METRICS:  32%|███▏      | 380/1202 [00:28<01:02, 13.22it/s]"
     ]
    },
    {
     "name": "stdout",
     "output_type": "stream",
     "text": [
      "Request completed: 200\n",
      "Request completed: 200\n",
      "Request completed: 200\n"
     ]
    },
    {
     "name": "stderr",
     "output_type": "stream",
     "text": [
      "COLLECTING METRICS:  32%|███▏      | 382/1202 [00:28<01:00, 13.50it/s]"
     ]
    },
    {
     "name": "stdout",
     "output_type": "stream",
     "text": [
      "Request completed: 200\n",
      "Request completed: 200\n",
      "Request completed: 200\n"
     ]
    },
    {
     "name": "stderr",
     "output_type": "stream",
     "text": [
      "COLLECTING METRICS:  32%|███▏      | 386/1202 [00:29<00:58, 13.90it/s]"
     ]
    },
    {
     "name": "stdout",
     "output_type": "stream",
     "text": [
      "Request completed: 200\n",
      "Request completed: 200\n",
      "Request completed: 200\n"
     ]
    },
    {
     "name": "stderr",
     "output_type": "stream",
     "text": [
      "COLLECTING METRICS:  32%|███▏      | 388/1202 [00:29<00:57, 14.20it/s]"
     ]
    },
    {
     "name": "stdout",
     "output_type": "stream",
     "text": [
      "Request completed: 200\n",
      "Request completed: 200\n",
      "Request completed: 200\n"
     ]
    },
    {
     "name": "stderr",
     "output_type": "stream",
     "text": [
      "COLLECTING METRICS:  33%|███▎      | 392/1202 [00:29<00:58, 13.90it/s]"
     ]
    },
    {
     "name": "stdout",
     "output_type": "stream",
     "text": [
      "Request completed: 200\n",
      "Request completed: 200\n",
      "Request completed: 200\n"
     ]
    },
    {
     "name": "stderr",
     "output_type": "stream",
     "text": [
      "COLLECTING METRICS:  33%|███▎      | 394/1202 [00:29<00:58, 13.80it/s]"
     ]
    },
    {
     "name": "stdout",
     "output_type": "stream",
     "text": [
      "Request completed: 200\n",
      "Request completed: 200\n",
      "Request completed: 200\n"
     ]
    },
    {
     "name": "stderr",
     "output_type": "stream",
     "text": [
      "COLLECTING METRICS:  33%|███▎      | 398/1202 [00:30<01:00, 13.21it/s]"
     ]
    },
    {
     "name": "stdout",
     "output_type": "stream",
     "text": [
      "Request completed: 200\n",
      "Request completed: 200\n",
      "Request completed: 200\n"
     ]
    },
    {
     "name": "stderr",
     "output_type": "stream",
     "text": [
      "COLLECTING METRICS:  33%|███▎      | 400/1202 [00:30<01:00, 13.16it/s]"
     ]
    },
    {
     "name": "stdout",
     "output_type": "stream",
     "text": [
      "Request completed: 200\n",
      "Request completed: 200\n",
      "Request completed: 200\n"
     ]
    },
    {
     "name": "stderr",
     "output_type": "stream",
     "text": [
      "COLLECTING METRICS:  34%|███▎      | 404/1202 [00:30<01:00, 13.23it/s]"
     ]
    },
    {
     "name": "stdout",
     "output_type": "stream",
     "text": [
      "Request completed: 200\n",
      "Request completed: 200\n",
      "Request completed: 200\n"
     ]
    },
    {
     "name": "stderr",
     "output_type": "stream",
     "text": [
      "COLLECTING METRICS:  34%|███▍      | 406/1202 [00:30<01:01, 12.98it/s]"
     ]
    },
    {
     "name": "stdout",
     "output_type": "stream",
     "text": [
      "Request completed: 200\n",
      "Request completed: 200\n",
      "Request completed: 200\n"
     ]
    },
    {
     "name": "stderr",
     "output_type": "stream",
     "text": [
      "COLLECTING METRICS:  34%|███▍      | 410/1202 [00:31<01:00, 13.18it/s]"
     ]
    },
    {
     "name": "stdout",
     "output_type": "stream",
     "text": [
      "Request completed: 200\n",
      "Request completed: 200\n",
      "Request completed: 200\n"
     ]
    },
    {
     "name": "stderr",
     "output_type": "stream",
     "text": [
      "COLLECTING METRICS:  34%|███▍      | 412/1202 [00:31<00:59, 13.26it/s]"
     ]
    },
    {
     "name": "stdout",
     "output_type": "stream",
     "text": [
      "Request completed: 200\n",
      "Request completed: 200\n",
      "Request completed: 200\n"
     ]
    },
    {
     "name": "stderr",
     "output_type": "stream",
     "text": [
      "COLLECTING METRICS:  35%|███▍      | 416/1202 [00:31<00:57, 13.56it/s]"
     ]
    },
    {
     "name": "stdout",
     "output_type": "stream",
     "text": [
      "Request completed: 200\n",
      "Request completed: 200\n",
      "Request completed: 200\n"
     ]
    },
    {
     "name": "stderr",
     "output_type": "stream",
     "text": [
      "COLLECTING METRICS:  35%|███▍      | 418/1202 [00:31<00:59, 13.16it/s]"
     ]
    },
    {
     "name": "stdout",
     "output_type": "stream",
     "text": [
      "Request completed: 200\n",
      "Request completed: 200\n",
      "Request completed: 200\n"
     ]
    },
    {
     "name": "stderr",
     "output_type": "stream",
     "text": [
      "COLLECTING METRICS:  35%|███▌      | 422/1202 [00:31<00:58, 13.31it/s]"
     ]
    },
    {
     "name": "stdout",
     "output_type": "stream",
     "text": [
      "Request completed: 200\n",
      "Request completed: 200\n",
      "Request completed: 200\n"
     ]
    },
    {
     "name": "stderr",
     "output_type": "stream",
     "text": [
      "COLLECTING METRICS:  35%|███▌      | 424/1202 [00:32<00:57, 13.57it/s]"
     ]
    },
    {
     "name": "stdout",
     "output_type": "stream",
     "text": [
      "Request completed: 200\n",
      "Request completed: 200\n",
      "Request completed: 200\n"
     ]
    },
    {
     "name": "stderr",
     "output_type": "stream",
     "text": [
      "COLLECTING METRICS:  36%|███▌      | 428/1202 [00:32<00:59, 13.06it/s]"
     ]
    },
    {
     "name": "stdout",
     "output_type": "stream",
     "text": [
      "Request completed: 200\n",
      "Request completed: 200\n",
      "Request completed: 200\n"
     ]
    },
    {
     "name": "stderr",
     "output_type": "stream",
     "text": [
      "COLLECTING METRICS:  36%|███▌      | 430/1202 [00:32<00:57, 13.45it/s]"
     ]
    },
    {
     "name": "stdout",
     "output_type": "stream",
     "text": [
      "Request completed: 200\n",
      "Request completed: 200\n",
      "Request completed: 200\n"
     ]
    },
    {
     "name": "stderr",
     "output_type": "stream",
     "text": [
      "COLLECTING METRICS:  36%|███▌      | 434/1202 [00:32<00:57, 13.30it/s]"
     ]
    },
    {
     "name": "stdout",
     "output_type": "stream",
     "text": [
      "Request completed: 200\n",
      "Request completed: 200\n",
      "Request completed: 200\n"
     ]
    },
    {
     "name": "stderr",
     "output_type": "stream",
     "text": [
      "COLLECTING METRICS:  36%|███▋      | 436/1202 [00:33<00:58, 13.02it/s]"
     ]
    },
    {
     "name": "stdout",
     "output_type": "stream",
     "text": [
      "Request completed: 200\n",
      "Request completed: 200\n",
      "Request completed: 200\n"
     ]
    },
    {
     "name": "stderr",
     "output_type": "stream",
     "text": [
      "COLLECTING METRICS:  37%|███▋      | 440/1202 [00:33<00:56, 13.40it/s]"
     ]
    },
    {
     "name": "stdout",
     "output_type": "stream",
     "text": [
      "Request completed: 200\n",
      "Request completed: 200\n",
      "Request completed: 200\n"
     ]
    },
    {
     "name": "stderr",
     "output_type": "stream",
     "text": [
      "COLLECTING METRICS:  37%|███▋      | 442/1202 [00:33<00:56, 13.36it/s]"
     ]
    },
    {
     "name": "stdout",
     "output_type": "stream",
     "text": [
      "Request completed: 200\n",
      "Request completed: 200\n",
      "Request completed: 200\n"
     ]
    },
    {
     "name": "stderr",
     "output_type": "stream",
     "text": [
      "COLLECTING METRICS:  37%|███▋      | 446/1202 [00:33<00:57, 13.11it/s]"
     ]
    },
    {
     "name": "stdout",
     "output_type": "stream",
     "text": [
      "Request completed: 200\n",
      "Request completed: 200\n",
      "Request completed: 200\n"
     ]
    },
    {
     "name": "stderr",
     "output_type": "stream",
     "text": [
      "COLLECTING METRICS:  37%|███▋      | 448/1202 [00:33<00:56, 13.39it/s]"
     ]
    },
    {
     "name": "stdout",
     "output_type": "stream",
     "text": [
      "Request completed: 200\n",
      "Request completed: 200\n",
      "Request completed: 200\n"
     ]
    },
    {
     "name": "stderr",
     "output_type": "stream",
     "text": [
      "COLLECTING METRICS:  38%|███▊      | 452/1202 [00:34<00:56, 13.37it/s]"
     ]
    },
    {
     "name": "stdout",
     "output_type": "stream",
     "text": [
      "Request completed: 200\n",
      "Request completed: 200\n",
      "Request completed: 200\n"
     ]
    },
    {
     "name": "stderr",
     "output_type": "stream",
     "text": [
      "COLLECTING METRICS:  38%|███▊      | 454/1202 [00:34<00:55, 13.52it/s]"
     ]
    },
    {
     "name": "stdout",
     "output_type": "stream",
     "text": [
      "Request completed: 200\n",
      "Request completed: 200\n",
      "Request completed: 200\n"
     ]
    },
    {
     "name": "stderr",
     "output_type": "stream",
     "text": [
      "COLLECTING METRICS:  38%|███▊      | 458/1202 [00:34<00:54, 13.71it/s]"
     ]
    },
    {
     "name": "stdout",
     "output_type": "stream",
     "text": [
      "Request completed: 200\n",
      "Request completed: 200\n",
      "Request completed: 200\n"
     ]
    },
    {
     "name": "stderr",
     "output_type": "stream",
     "text": [
      "COLLECTING METRICS:  38%|███▊      | 460/1202 [00:34<00:53, 13.91it/s]"
     ]
    },
    {
     "name": "stdout",
     "output_type": "stream",
     "text": [
      "Request completed: 200\n",
      "Request completed: 200\n",
      "Request completed: 200\n"
     ]
    },
    {
     "name": "stderr",
     "output_type": "stream",
     "text": [
      "COLLECTING METRICS:  39%|███▊      | 464/1202 [00:35<00:55, 13.27it/s]"
     ]
    },
    {
     "name": "stdout",
     "output_type": "stream",
     "text": [
      "Request completed: 200\n",
      "Request completed: 200\n",
      "Request completed: 200\n"
     ]
    },
    {
     "name": "stderr",
     "output_type": "stream",
     "text": [
      "COLLECTING METRICS:  39%|███▉      | 466/1202 [00:35<00:54, 13.63it/s]"
     ]
    },
    {
     "name": "stdout",
     "output_type": "stream",
     "text": [
      "Request completed: 200\n",
      "Request completed: 200\n",
      "Request completed: 200\n"
     ]
    },
    {
     "name": "stderr",
     "output_type": "stream",
     "text": [
      "COLLECTING METRICS:  39%|███▉      | 470/1202 [00:35<00:54, 13.40it/s]"
     ]
    },
    {
     "name": "stdout",
     "output_type": "stream",
     "text": [
      "Request completed: 200\n",
      "Request completed: 200\n",
      "Request completed: 200\n"
     ]
    },
    {
     "name": "stderr",
     "output_type": "stream",
     "text": [
      "COLLECTING METRICS:  39%|███▉      | 472/1202 [00:35<00:54, 13.47it/s]"
     ]
    },
    {
     "name": "stdout",
     "output_type": "stream",
     "text": [
      "Request completed: 200\n",
      "Request completed: 200\n",
      "Request completed: 200\n"
     ]
    },
    {
     "name": "stderr",
     "output_type": "stream",
     "text": [
      "COLLECTING METRICS:  40%|███▉      | 476/1202 [00:36<00:53, 13.67it/s]"
     ]
    },
    {
     "name": "stdout",
     "output_type": "stream",
     "text": [
      "Request completed: 200\n",
      "Request completed: 200\n",
      "Request completed: 200\n"
     ]
    },
    {
     "name": "stderr",
     "output_type": "stream",
     "text": [
      "COLLECTING METRICS:  40%|███▉      | 478/1202 [00:36<00:53, 13.58it/s]"
     ]
    },
    {
     "name": "stdout",
     "output_type": "stream",
     "text": [
      "Request completed: 200\n",
      "Request completed: 200\n",
      "Request completed: 200\n"
     ]
    },
    {
     "name": "stderr",
     "output_type": "stream",
     "text": [
      "COLLECTING METRICS:  40%|████      | 482/1202 [00:36<00:55, 12.96it/s]"
     ]
    },
    {
     "name": "stdout",
     "output_type": "stream",
     "text": [
      "Request completed: 200\n",
      "Request completed: 200\n",
      "Request completed: 200\n"
     ]
    },
    {
     "name": "stderr",
     "output_type": "stream",
     "text": [
      "COLLECTING METRICS:  40%|████      | 484/1202 [00:36<00:55, 12.85it/s]"
     ]
    },
    {
     "name": "stdout",
     "output_type": "stream",
     "text": [
      "Request completed: 200\n",
      "Request completed: 200\n",
      "Request completed: 200\n"
     ]
    },
    {
     "name": "stderr",
     "output_type": "stream",
     "text": [
      "COLLECTING METRICS:  41%|████      | 488/1202 [00:36<00:53, 13.27it/s]"
     ]
    },
    {
     "name": "stdout",
     "output_type": "stream",
     "text": [
      "Request completed: 200\n",
      "Request completed: 200\n",
      "Request completed: 200\n"
     ]
    },
    {
     "name": "stderr",
     "output_type": "stream",
     "text": [
      "COLLECTING METRICS:  41%|████      | 490/1202 [00:37<00:53, 13.35it/s]"
     ]
    },
    {
     "name": "stdout",
     "output_type": "stream",
     "text": [
      "Request completed: 200\n",
      "Request completed: 200\n",
      "Request completed: 200\n"
     ]
    },
    {
     "name": "stderr",
     "output_type": "stream",
     "text": [
      "COLLECTING METRICS:  41%|████      | 494/1202 [00:37<00:53, 13.36it/s]"
     ]
    },
    {
     "name": "stdout",
     "output_type": "stream",
     "text": [
      "Request completed: 200\n",
      "Request completed: 200\n",
      "Request completed: 200\n"
     ]
    },
    {
     "name": "stderr",
     "output_type": "stream",
     "text": [
      "COLLECTING METRICS:  41%|████▏     | 496/1202 [00:37<00:51, 13.65it/s]"
     ]
    },
    {
     "name": "stdout",
     "output_type": "stream",
     "text": [
      "Request completed: 200\n",
      "Request completed: 200\n",
      "Request completed: 200\n"
     ]
    },
    {
     "name": "stderr",
     "output_type": "stream",
     "text": [
      "COLLECTING METRICS:  42%|████▏     | 500/1202 [00:37<00:50, 14.02it/s]"
     ]
    },
    {
     "name": "stdout",
     "output_type": "stream",
     "text": [
      "Request completed: 200\n",
      "Request completed: 200\n",
      "Request completed: 200\n"
     ]
    },
    {
     "name": "stderr",
     "output_type": "stream",
     "text": [
      "COLLECTING METRICS:  42%|████▏     | 502/1202 [00:37<00:51, 13.56it/s]"
     ]
    },
    {
     "name": "stdout",
     "output_type": "stream",
     "text": [
      "Request completed: 200\n",
      "Request completed: 200\n",
      "Request completed: 200\n"
     ]
    },
    {
     "name": "stderr",
     "output_type": "stream",
     "text": [
      "COLLECTING METRICS:  42%|████▏     | 506/1202 [00:38<00:50, 13.85it/s]"
     ]
    },
    {
     "name": "stdout",
     "output_type": "stream",
     "text": [
      "Request completed: 200\n",
      "Request completed: 200\n",
      "Request completed: 200\n"
     ]
    },
    {
     "name": "stderr",
     "output_type": "stream",
     "text": [
      "COLLECTING METRICS:  42%|████▏     | 508/1202 [00:38<00:52, 13.29it/s]"
     ]
    },
    {
     "name": "stdout",
     "output_type": "stream",
     "text": [
      "Request completed: 200\n",
      "Request completed: 200\n",
      "Request completed: 200\n"
     ]
    },
    {
     "name": "stderr",
     "output_type": "stream",
     "text": [
      "COLLECTING METRICS:  43%|████▎     | 512/1202 [00:38<00:52, 13.12it/s]"
     ]
    },
    {
     "name": "stdout",
     "output_type": "stream",
     "text": [
      "Request completed: 200\n",
      "Request completed: 200\n",
      "Request completed: 200\n"
     ]
    },
    {
     "name": "stderr",
     "output_type": "stream",
     "text": [
      "COLLECTING METRICS:  43%|████▎     | 514/1202 [00:38<00:51, 13.34it/s]"
     ]
    },
    {
     "name": "stdout",
     "output_type": "stream",
     "text": [
      "Request completed: 200\n",
      "Request completed: 200\n",
      "Request completed: 200\n"
     ]
    },
    {
     "name": "stderr",
     "output_type": "stream",
     "text": [
      "COLLECTING METRICS:  43%|████▎     | 518/1202 [00:39<00:50, 13.65it/s]"
     ]
    },
    {
     "name": "stdout",
     "output_type": "stream",
     "text": [
      "Request completed: 200\n",
      "Request completed: 200\n",
      "Request completed: 200\n"
     ]
    },
    {
     "name": "stderr",
     "output_type": "stream",
     "text": [
      "COLLECTING METRICS:  43%|████▎     | 520/1202 [00:39<00:48, 14.11it/s]"
     ]
    },
    {
     "name": "stdout",
     "output_type": "stream",
     "text": [
      "Request completed: 200\n",
      "Request completed: 200\n",
      "Request completed: 200\n"
     ]
    },
    {
     "name": "stderr",
     "output_type": "stream",
     "text": [
      "COLLECTING METRICS:  44%|████▎     | 524/1202 [00:39<00:51, 13.06it/s]"
     ]
    },
    {
     "name": "stdout",
     "output_type": "stream",
     "text": [
      "Request completed: 200\n",
      "Request completed: 200\n",
      "Request completed: 200\n"
     ]
    },
    {
     "name": "stderr",
     "output_type": "stream",
     "text": [
      "COLLECTING METRICS:  44%|████▍     | 526/1202 [00:39<00:50, 13.39it/s]"
     ]
    },
    {
     "name": "stdout",
     "output_type": "stream",
     "text": [
      "Request completed: 200\n",
      "Request completed: 200\n",
      "Request completed: 200\n"
     ]
    },
    {
     "name": "stderr",
     "output_type": "stream",
     "text": [
      "COLLECTING METRICS:  44%|████▍     | 530/1202 [00:40<00:51, 13.12it/s]"
     ]
    },
    {
     "name": "stdout",
     "output_type": "stream",
     "text": [
      "Request completed: 200\n",
      "Request completed: 200\n",
      "Request completed: 200\n"
     ]
    },
    {
     "name": "stderr",
     "output_type": "stream",
     "text": [
      "COLLECTING METRICS:  44%|████▍     | 532/1202 [00:40<00:50, 13.32it/s]"
     ]
    },
    {
     "name": "stdout",
     "output_type": "stream",
     "text": [
      "Request completed: 200\n",
      "Request completed: 200\n",
      "Request completed: 200\n"
     ]
    },
    {
     "name": "stderr",
     "output_type": "stream",
     "text": [
      "COLLECTING METRICS:  45%|████▍     | 536/1202 [00:40<00:48, 13.76it/s]"
     ]
    },
    {
     "name": "stdout",
     "output_type": "stream",
     "text": [
      "Request completed: 200\n",
      "Request completed: 200\n",
      "Request completed: 200\n"
     ]
    },
    {
     "name": "stderr",
     "output_type": "stream",
     "text": [
      "COLLECTING METRICS:  45%|████▍     | 538/1202 [00:40<00:48, 13.82it/s]"
     ]
    },
    {
     "name": "stdout",
     "output_type": "stream",
     "text": [
      "Request completed: 200\n",
      "Request completed: 200\n",
      "Request completed: 200\n"
     ]
    },
    {
     "name": "stderr",
     "output_type": "stream",
     "text": [
      "COLLECTING METRICS:  45%|████▌     | 542/1202 [00:40<00:49, 13.26it/s]"
     ]
    },
    {
     "name": "stdout",
     "output_type": "stream",
     "text": [
      "Request completed: 200\n",
      "Request completed: 200\n",
      "Request completed: 200\n"
     ]
    },
    {
     "name": "stderr",
     "output_type": "stream",
     "text": [
      "COLLECTING METRICS:  45%|████▌     | 544/1202 [00:41<00:47, 13.88it/s]"
     ]
    },
    {
     "name": "stdout",
     "output_type": "stream",
     "text": [
      "Request completed: 200\n",
      "Request completed: 200\n",
      "Request completed: 200\n"
     ]
    },
    {
     "name": "stderr",
     "output_type": "stream",
     "text": [
      "COLLECTING METRICS:  46%|████▌     | 548/1202 [00:41<00:46, 14.09it/s]"
     ]
    },
    {
     "name": "stdout",
     "output_type": "stream",
     "text": [
      "Request completed: 200\n",
      "Request completed: 200\n",
      "Request completed: 200\n"
     ]
    },
    {
     "name": "stderr",
     "output_type": "stream",
     "text": [
      "COLLECTING METRICS:  46%|████▌     | 550/1202 [00:41<00:46, 14.02it/s]"
     ]
    },
    {
     "name": "stdout",
     "output_type": "stream",
     "text": [
      "Request completed: 200\n",
      "Request completed: 200\n",
      "Request completed: 200\n"
     ]
    },
    {
     "name": "stderr",
     "output_type": "stream",
     "text": [
      "COLLECTING METRICS:  46%|████▌     | 554/1202 [00:41<00:46, 14.04it/s]"
     ]
    },
    {
     "name": "stdout",
     "output_type": "stream",
     "text": [
      "Request completed: 200\n",
      "Request completed: 200\n",
      "Request completed: 200\n",
      "Request completed: 200\n"
     ]
    },
    {
     "name": "stderr",
     "output_type": "stream",
     "text": [
      "COLLECTING METRICS:  46%|████▋     | 558/1202 [00:42<00:45, 14.01it/s]"
     ]
    },
    {
     "name": "stdout",
     "output_type": "stream",
     "text": [
      "Request completed: 200\n",
      "Request completed: 200\n",
      "Request completed: 200\n"
     ]
    },
    {
     "name": "stderr",
     "output_type": "stream",
     "text": [
      "COLLECTING METRICS:  47%|████▋     | 560/1202 [00:42<00:45, 14.22it/s]"
     ]
    },
    {
     "name": "stdout",
     "output_type": "stream",
     "text": [
      "Request completed: 200\n",
      "Request completed: 200\n",
      "Request completed: 200\n"
     ]
    },
    {
     "name": "stderr",
     "output_type": "stream",
     "text": [
      "COLLECTING METRICS:  47%|████▋     | 564/1202 [00:42<00:44, 14.28it/s]"
     ]
    },
    {
     "name": "stdout",
     "output_type": "stream",
     "text": [
      "Request completed: 200\n",
      "Request completed: 200\n",
      "Request completed: 200\n"
     ]
    },
    {
     "name": "stderr",
     "output_type": "stream",
     "text": [
      "COLLECTING METRICS:  47%|████▋     | 566/1202 [00:42<00:44, 14.21it/s]"
     ]
    },
    {
     "name": "stdout",
     "output_type": "stream",
     "text": [
      "Request completed: 200\n",
      "Request completed: 200\n",
      "Request completed: 200\n"
     ]
    },
    {
     "name": "stderr",
     "output_type": "stream",
     "text": [
      "COLLECTING METRICS:  47%|████▋     | 570/1202 [00:42<00:44, 14.05it/s]"
     ]
    },
    {
     "name": "stdout",
     "output_type": "stream",
     "text": [
      "Request completed: 200\n",
      "Request completed: 200\n",
      "Request completed: 200\n"
     ]
    },
    {
     "name": "stderr",
     "output_type": "stream",
     "text": [
      "COLLECTING METRICS:  48%|████▊     | 574/1202 [00:43<00:42, 14.66it/s]"
     ]
    },
    {
     "name": "stdout",
     "output_type": "stream",
     "text": [
      "Request completed: 200\n",
      "Request completed: 200\n",
      "Request completed: 200\n",
      "Request completed: 200\n"
     ]
    },
    {
     "name": "stderr",
     "output_type": "stream",
     "text": [
      "COLLECTING METRICS:  48%|████▊     | 576/1202 [00:43<00:43, 14.50it/s]"
     ]
    },
    {
     "name": "stdout",
     "output_type": "stream",
     "text": [
      "Request completed: 200\n",
      "Request completed: 200\n",
      "Request completed: 200\n"
     ]
    },
    {
     "name": "stderr",
     "output_type": "stream",
     "text": [
      "COLLECTING METRICS:  48%|████▊     | 580/1202 [00:43<00:45, 13.74it/s]"
     ]
    },
    {
     "name": "stdout",
     "output_type": "stream",
     "text": [
      "Request completed: 200\n",
      "Request completed: 200\n",
      "Request completed: 200\n"
     ]
    },
    {
     "name": "stderr",
     "output_type": "stream",
     "text": [
      "COLLECTING METRICS:  49%|████▊     | 584/1202 [00:43<00:43, 14.13it/s]"
     ]
    },
    {
     "name": "stdout",
     "output_type": "stream",
     "text": [
      "Request completed: 200\n",
      "Request completed: 200\n",
      "Request completed: 200\n",
      "Request completed: 200\n"
     ]
    },
    {
     "name": "stderr",
     "output_type": "stream",
     "text": [
      "COLLECTING METRICS:  49%|████▉     | 586/1202 [00:44<00:42, 14.35it/s]"
     ]
    },
    {
     "name": "stdout",
     "output_type": "stream",
     "text": [
      "Request completed: 200\n",
      "Request completed: 200\n",
      "Request completed: 200\n"
     ]
    },
    {
     "name": "stderr",
     "output_type": "stream",
     "text": [
      "COLLECTING METRICS:  49%|████▉     | 590/1202 [00:44<00:46, 13.30it/s]"
     ]
    },
    {
     "name": "stdout",
     "output_type": "stream",
     "text": [
      "Request completed: 200\n",
      "Request completed: 200\n",
      "Request completed: 200\n"
     ]
    },
    {
     "name": "stderr",
     "output_type": "stream",
     "text": [
      "COLLECTING METRICS:  49%|████▉     | 592/1202 [00:44<00:46, 13.24it/s]"
     ]
    },
    {
     "name": "stdout",
     "output_type": "stream",
     "text": [
      "Request completed: 200\n",
      "Request completed: 200\n",
      "Request completed: 200\n"
     ]
    },
    {
     "name": "stderr",
     "output_type": "stream",
     "text": [
      "COLLECTING METRICS:  50%|████▉     | 596/1202 [00:44<00:44, 13.75it/s]"
     ]
    },
    {
     "name": "stdout",
     "output_type": "stream",
     "text": [
      "Request completed: 200\n",
      "Request completed: 200\n",
      "Request completed: 200\n"
     ]
    },
    {
     "name": "stderr",
     "output_type": "stream",
     "text": [
      "COLLECTING METRICS:  50%|████▉     | 598/1202 [00:45<00:52, 11.45it/s]"
     ]
    },
    {
     "name": "stdout",
     "output_type": "stream",
     "text": [
      "Request completed: 200\n",
      "Request completed: 200\n",
      "Request completed: 200\n"
     ]
    },
    {
     "name": "stderr",
     "output_type": "stream",
     "text": [
      "COLLECTING METRICS:  50%|█████     | 602/1202 [00:45<00:50, 11.83it/s]"
     ]
    },
    {
     "name": "stdout",
     "output_type": "stream",
     "text": [
      "Request completed: 200\n",
      "Request completed: 200\n",
      "Request completed: 200\n"
     ]
    },
    {
     "name": "stderr",
     "output_type": "stream",
     "text": [
      "COLLECTING METRICS:  50%|█████     | 604/1202 [00:45<00:48, 12.20it/s]"
     ]
    },
    {
     "name": "stdout",
     "output_type": "stream",
     "text": [
      "Request completed: 200\n",
      "Request completed: 200\n",
      "Request completed: 200\n"
     ]
    },
    {
     "name": "stderr",
     "output_type": "stream",
     "text": [
      "COLLECTING METRICS:  51%|█████     | 608/1202 [00:45<00:45, 13.12it/s]"
     ]
    },
    {
     "name": "stdout",
     "output_type": "stream",
     "text": [
      "Request completed: 200\n",
      "Request completed: 200\n",
      "Request completed: 200\n"
     ]
    },
    {
     "name": "stderr",
     "output_type": "stream",
     "text": [
      "COLLECTING METRICS:  51%|█████     | 610/1202 [00:45<00:43, 13.64it/s]"
     ]
    },
    {
     "name": "stdout",
     "output_type": "stream",
     "text": [
      "Request completed: 200\n",
      "Request completed: 200\n",
      "Request completed: 200\n"
     ]
    },
    {
     "name": "stderr",
     "output_type": "stream",
     "text": [
      "COLLECTING METRICS:  51%|█████     | 614/1202 [00:46<00:42, 13.78it/s]"
     ]
    },
    {
     "name": "stdout",
     "output_type": "stream",
     "text": [
      "Request completed: 200\n",
      "Request completed: 200\n",
      "Request completed: 200\n"
     ]
    },
    {
     "name": "stderr",
     "output_type": "stream",
     "text": [
      "COLLECTING METRICS:  51%|█████     | 616/1202 [00:46<00:42, 13.79it/s]"
     ]
    },
    {
     "name": "stdout",
     "output_type": "stream",
     "text": [
      "Request completed: 200\n",
      "Request completed: 200\n",
      "Request completed: 200\n"
     ]
    },
    {
     "name": "stderr",
     "output_type": "stream",
     "text": [
      "COLLECTING METRICS:  52%|█████▏    | 620/1202 [00:46<00:43, 13.31it/s]"
     ]
    },
    {
     "name": "stdout",
     "output_type": "stream",
     "text": [
      "Request completed: 200\n",
      "Request completed: 200\n",
      "Request completed: 200\n"
     ]
    },
    {
     "name": "stderr",
     "output_type": "stream",
     "text": [
      "COLLECTING METRICS:  52%|█████▏    | 622/1202 [00:46<00:45, 12.65it/s]"
     ]
    },
    {
     "name": "stdout",
     "output_type": "stream",
     "text": [
      "Request completed: 200\n",
      "Request completed: 200\n",
      "Request completed: 200\n"
     ]
    },
    {
     "name": "stderr",
     "output_type": "stream",
     "text": [
      "COLLECTING METRICS:  52%|█████▏    | 626/1202 [00:47<00:48, 11.88it/s]"
     ]
    },
    {
     "name": "stdout",
     "output_type": "stream",
     "text": [
      "Request completed: 200\n",
      "Request completed: 200\n",
      "Request completed: 200\n"
     ]
    },
    {
     "name": "stderr",
     "output_type": "stream",
     "text": [
      "COLLECTING METRICS:  52%|█████▏    | 628/1202 [00:47<00:46, 12.43it/s]"
     ]
    },
    {
     "name": "stdout",
     "output_type": "stream",
     "text": [
      "Request completed: 200\n",
      "Request completed: 200\n",
      "Request completed: 200\n"
     ]
    },
    {
     "name": "stderr",
     "output_type": "stream",
     "text": [
      "COLLECTING METRICS:  53%|█████▎    | 632/1202 [00:47<00:45, 12.53it/s]"
     ]
    },
    {
     "name": "stdout",
     "output_type": "stream",
     "text": [
      "Request completed: 200\n",
      "Request completed: 200\n",
      "Request completed: 200\n"
     ]
    },
    {
     "name": "stderr",
     "output_type": "stream",
     "text": [
      "COLLECTING METRICS:  53%|█████▎    | 634/1202 [00:47<00:43, 13.00it/s]"
     ]
    },
    {
     "name": "stdout",
     "output_type": "stream",
     "text": [
      "Request completed: 200\n",
      "Request completed: 200\n",
      "Request completed: 200\n"
     ]
    },
    {
     "name": "stderr",
     "output_type": "stream",
     "text": [
      "COLLECTING METRICS:  53%|█████▎    | 638/1202 [00:48<00:40, 13.86it/s]"
     ]
    },
    {
     "name": "stdout",
     "output_type": "stream",
     "text": [
      "Request completed: 200\n",
      "Request completed: 200\n",
      "Request completed: 200\n"
     ]
    },
    {
     "name": "stderr",
     "output_type": "stream",
     "text": [
      "COLLECTING METRICS:  53%|█████▎    | 640/1202 [00:48<00:41, 13.70it/s]"
     ]
    },
    {
     "name": "stdout",
     "output_type": "stream",
     "text": [
      "Request completed: 200\n",
      "Request completed: 200\n",
      "Request completed: 200\n"
     ]
    },
    {
     "name": "stderr",
     "output_type": "stream",
     "text": [
      "COLLECTING METRICS:  54%|█████▎    | 644/1202 [00:48<00:41, 13.43it/s]"
     ]
    },
    {
     "name": "stdout",
     "output_type": "stream",
     "text": [
      "Request completed: 200\n",
      "Request completed: 200\n",
      "Request completed: 200\n"
     ]
    },
    {
     "name": "stderr",
     "output_type": "stream",
     "text": [
      "COLLECTING METRICS:  54%|█████▎    | 646/1202 [00:48<00:42, 13.07it/s]"
     ]
    },
    {
     "name": "stdout",
     "output_type": "stream",
     "text": [
      "Request completed: 200\n",
      "Request completed: 200\n",
      "Request completed: 200\n"
     ]
    },
    {
     "name": "stderr",
     "output_type": "stream",
     "text": [
      "COLLECTING METRICS:  54%|█████▍    | 650/1202 [00:49<00:41, 13.34it/s]"
     ]
    },
    {
     "name": "stdout",
     "output_type": "stream",
     "text": [
      "Request completed: 200\n",
      "Request completed: 200\n",
      "Request completed: 200\n"
     ]
    },
    {
     "name": "stderr",
     "output_type": "stream",
     "text": [
      "COLLECTING METRICS:  54%|█████▍    | 652/1202 [00:49<00:41, 13.15it/s]"
     ]
    },
    {
     "name": "stdout",
     "output_type": "stream",
     "text": [
      "Request completed: 200\n",
      "Request completed: 200\n",
      "Request completed: 200\n"
     ]
    },
    {
     "name": "stderr",
     "output_type": "stream",
     "text": [
      "COLLECTING METRICS:  55%|█████▍    | 656/1202 [00:49<00:43, 12.48it/s]"
     ]
    },
    {
     "name": "stdout",
     "output_type": "stream",
     "text": [
      "Request completed: 200\n",
      "Request completed: 200\n",
      "Request completed: 200\n"
     ]
    },
    {
     "name": "stderr",
     "output_type": "stream",
     "text": [
      "COLLECTING METRICS:  55%|█████▍    | 658/1202 [00:49<00:42, 12.68it/s]"
     ]
    },
    {
     "name": "stdout",
     "output_type": "stream",
     "text": [
      "Request completed: 200\n",
      "Request completed: 200\n",
      "Request completed: 200\n"
     ]
    },
    {
     "name": "stderr",
     "output_type": "stream",
     "text": [
      "COLLECTING METRICS:  55%|█████▌    | 662/1202 [00:49<00:42, 12.74it/s]"
     ]
    },
    {
     "name": "stdout",
     "output_type": "stream",
     "text": [
      "Request completed: 200\n",
      "Request completed: 200\n",
      "Request completed: 200\n"
     ]
    },
    {
     "name": "stderr",
     "output_type": "stream",
     "text": [
      "COLLECTING METRICS:  55%|█████▌    | 664/1202 [00:50<00:44, 12.01it/s]"
     ]
    },
    {
     "name": "stdout",
     "output_type": "stream",
     "text": [
      "Request completed: 200\n",
      "Request completed: 200\n",
      "Request completed: 200\n"
     ]
    },
    {
     "name": "stderr",
     "output_type": "stream",
     "text": [
      "COLLECTING METRICS:  56%|█████▌    | 668/1202 [00:50<00:44, 12.01it/s]"
     ]
    },
    {
     "name": "stdout",
     "output_type": "stream",
     "text": [
      "Request completed: 200\n",
      "Request completed: 200\n",
      "Request completed: 200\n"
     ]
    },
    {
     "name": "stderr",
     "output_type": "stream",
     "text": [
      "COLLECTING METRICS:  56%|█████▌    | 670/1202 [00:50<00:44, 12.07it/s]"
     ]
    },
    {
     "name": "stdout",
     "output_type": "stream",
     "text": [
      "Request completed: 200\n",
      "Request completed: 200\n",
      "Request completed: 200\n"
     ]
    },
    {
     "name": "stderr",
     "output_type": "stream",
     "text": [
      "COLLECTING METRICS:  56%|█████▌    | 674/1202 [00:50<00:40, 12.88it/s]"
     ]
    },
    {
     "name": "stdout",
     "output_type": "stream",
     "text": [
      "Request completed: 200\n",
      "Request completed: 200\n",
      "Request completed: 200\n"
     ]
    },
    {
     "name": "stderr",
     "output_type": "stream",
     "text": [
      "COLLECTING METRICS:  56%|█████▌    | 676/1202 [00:51<00:39, 13.24it/s]"
     ]
    },
    {
     "name": "stdout",
     "output_type": "stream",
     "text": [
      "Request completed: 200\n",
      "Request completed: 200\n",
      "Request completed: 200\n"
     ]
    },
    {
     "name": "stderr",
     "output_type": "stream",
     "text": [
      "COLLECTING METRICS:  57%|█████▋    | 680/1202 [00:51<00:40, 12.78it/s]"
     ]
    },
    {
     "name": "stdout",
     "output_type": "stream",
     "text": [
      "Request completed: 200\n",
      "Request completed: 200\n",
      "Request completed: 200\n"
     ]
    },
    {
     "name": "stderr",
     "output_type": "stream",
     "text": [
      "COLLECTING METRICS:  57%|█████▋    | 682/1202 [00:51<00:40, 12.96it/s]"
     ]
    },
    {
     "name": "stdout",
     "output_type": "stream",
     "text": [
      "Request completed: 200\n",
      "Request completed: 200\n",
      "Request completed: 200\n"
     ]
    },
    {
     "name": "stderr",
     "output_type": "stream",
     "text": [
      "COLLECTING METRICS:  57%|█████▋    | 686/1202 [00:51<00:39, 13.13it/s]"
     ]
    },
    {
     "name": "stdout",
     "output_type": "stream",
     "text": [
      "Request completed: 200\n",
      "Request completed: 200\n",
      "Request completed: 200\n"
     ]
    },
    {
     "name": "stderr",
     "output_type": "stream",
     "text": [
      "COLLECTING METRICS:  57%|█████▋    | 690/1202 [00:52<00:36, 14.08it/s]"
     ]
    },
    {
     "name": "stdout",
     "output_type": "stream",
     "text": [
      "Request completed: 200\n",
      "Request completed: 200\n",
      "Request completed: 200\n",
      "Request completed: 200\n"
     ]
    },
    {
     "name": "stderr",
     "output_type": "stream",
     "text": [
      "COLLECTING METRICS:  58%|█████▊    | 692/1202 [00:52<00:36, 14.06it/s]"
     ]
    },
    {
     "name": "stdout",
     "output_type": "stream",
     "text": [
      "Request completed: 200\n",
      "Request completed: 200\n",
      "Request completed: 200\n"
     ]
    },
    {
     "name": "stderr",
     "output_type": "stream",
     "text": [
      "COLLECTING METRICS:  58%|█████▊    | 696/1202 [00:52<00:38, 13.01it/s]"
     ]
    },
    {
     "name": "stdout",
     "output_type": "stream",
     "text": [
      "Request completed: 200\n",
      "Request completed: 200\n",
      "Request completed: 200\n"
     ]
    },
    {
     "name": "stderr",
     "output_type": "stream",
     "text": [
      "COLLECTING METRICS:  58%|█████▊    | 698/1202 [00:52<00:39, 12.80it/s]"
     ]
    },
    {
     "name": "stdout",
     "output_type": "stream",
     "text": [
      "Request completed: 200\n",
      "Request completed: 200\n",
      "Request completed: 200\n"
     ]
    },
    {
     "name": "stderr",
     "output_type": "stream",
     "text": [
      "COLLECTING METRICS:  58%|█████▊    | 702/1202 [00:53<00:37, 13.18it/s]"
     ]
    },
    {
     "name": "stdout",
     "output_type": "stream",
     "text": [
      "Request completed: 200\n",
      "Request completed: 200\n",
      "Request completed: 200\n"
     ]
    },
    {
     "name": "stderr",
     "output_type": "stream",
     "text": [
      "COLLECTING METRICS:  59%|█████▊    | 704/1202 [00:53<00:37, 13.23it/s]"
     ]
    },
    {
     "name": "stdout",
     "output_type": "stream",
     "text": [
      "Request completed: 200\n",
      "Request completed: 200\n",
      "Request completed: 200\n"
     ]
    },
    {
     "name": "stderr",
     "output_type": "stream",
     "text": [
      "COLLECTING METRICS:  59%|█████▉    | 708/1202 [00:53<00:37, 13.22it/s]"
     ]
    },
    {
     "name": "stdout",
     "output_type": "stream",
     "text": [
      "Request completed: 200\n",
      "Request completed: 200\n",
      "Request completed: 200\n"
     ]
    },
    {
     "name": "stderr",
     "output_type": "stream",
     "text": [
      "COLLECTING METRICS:  59%|█████▉    | 710/1202 [00:53<00:38, 12.81it/s]"
     ]
    },
    {
     "name": "stdout",
     "output_type": "stream",
     "text": [
      "Request completed: 200\n",
      "Request completed: 200\n",
      "Request completed: 200\n"
     ]
    },
    {
     "name": "stderr",
     "output_type": "stream",
     "text": [
      "COLLECTING METRICS:  59%|█████▉    | 714/1202 [00:53<00:38, 12.70it/s]"
     ]
    },
    {
     "name": "stdout",
     "output_type": "stream",
     "text": [
      "Request completed: 200\n",
      "Request completed: 200\n",
      "Request completed: 200\n"
     ]
    },
    {
     "name": "stderr",
     "output_type": "stream",
     "text": [
      "COLLECTING METRICS:  60%|█████▉    | 716/1202 [00:54<00:37, 12.94it/s]"
     ]
    },
    {
     "name": "stdout",
     "output_type": "stream",
     "text": [
      "Request completed: 200\n",
      "Request completed: 200\n",
      "Request completed: 200\n"
     ]
    },
    {
     "name": "stderr",
     "output_type": "stream",
     "text": [
      "COLLECTING METRICS:  60%|█████▉    | 720/1202 [00:54<00:37, 12.87it/s]"
     ]
    },
    {
     "name": "stdout",
     "output_type": "stream",
     "text": [
      "Request completed: 200\n",
      "Request completed: 200\n",
      "Request completed: 200\n"
     ]
    },
    {
     "name": "stderr",
     "output_type": "stream",
     "text": [
      "COLLECTING METRICS:  60%|██████    | 722/1202 [00:54<00:38, 12.63it/s]"
     ]
    },
    {
     "name": "stdout",
     "output_type": "stream",
     "text": [
      "Request completed: 200\n",
      "Request completed: 200\n",
      "Request completed: 200\n"
     ]
    },
    {
     "name": "stderr",
     "output_type": "stream",
     "text": [
      "COLLECTING METRICS:  60%|██████    | 726/1202 [00:54<00:37, 12.79it/s]"
     ]
    },
    {
     "name": "stdout",
     "output_type": "stream",
     "text": [
      "Request completed: 200\n",
      "Request completed: 200\n",
      "Request completed: 200\n"
     ]
    },
    {
     "name": "stderr",
     "output_type": "stream",
     "text": [
      "COLLECTING METRICS:  61%|██████    | 728/1202 [00:55<00:35, 13.29it/s]"
     ]
    },
    {
     "name": "stdout",
     "output_type": "stream",
     "text": [
      "Request completed: 200\n",
      "Request completed: 200\n",
      "Request completed: 200\n"
     ]
    },
    {
     "name": "stderr",
     "output_type": "stream",
     "text": [
      "COLLECTING METRICS:  61%|██████    | 732/1202 [00:55<00:35, 13.37it/s]"
     ]
    },
    {
     "name": "stdout",
     "output_type": "stream",
     "text": [
      "Request completed: 200\n",
      "Request completed: 200\n",
      "Request completed: 200\n"
     ]
    },
    {
     "name": "stderr",
     "output_type": "stream",
     "text": [
      "COLLECTING METRICS:  61%|██████    | 734/1202 [00:55<00:36, 12.84it/s]"
     ]
    },
    {
     "name": "stdout",
     "output_type": "stream",
     "text": [
      "Request completed: 200\n",
      "Request completed: 200\n",
      "Request completed: 200\n"
     ]
    },
    {
     "name": "stderr",
     "output_type": "stream",
     "text": [
      "COLLECTING METRICS:  61%|██████▏   | 738/1202 [00:55<00:35, 13.03it/s]"
     ]
    },
    {
     "name": "stdout",
     "output_type": "stream",
     "text": [
      "Request completed: 200\n",
      "Request completed: 200\n",
      "Request completed: 200\n"
     ]
    },
    {
     "name": "stderr",
     "output_type": "stream",
     "text": [
      "COLLECTING METRICS:  62%|██████▏   | 740/1202 [00:55<00:33, 13.94it/s]"
     ]
    },
    {
     "name": "stdout",
     "output_type": "stream",
     "text": [
      "Request completed: 200\n",
      "Request completed: 200\n",
      "Request completed: 200\n"
     ]
    },
    {
     "name": "stderr",
     "output_type": "stream",
     "text": [
      "COLLECTING METRICS:  62%|██████▏   | 744/1202 [00:56<00:34, 13.11it/s]"
     ]
    },
    {
     "name": "stdout",
     "output_type": "stream",
     "text": [
      "Request completed: 200\n",
      "Request completed: 200\n",
      "Request completed: 200\n"
     ]
    },
    {
     "name": "stderr",
     "output_type": "stream",
     "text": [
      "COLLECTING METRICS:  62%|██████▏   | 746/1202 [00:56<00:34, 13.10it/s]"
     ]
    },
    {
     "name": "stdout",
     "output_type": "stream",
     "text": [
      "Request completed: 200\n",
      "Request completed: 200\n",
      "Request completed: 200\n"
     ]
    },
    {
     "name": "stderr",
     "output_type": "stream",
     "text": [
      "COLLECTING METRICS:  62%|██████▏   | 750/1202 [00:56<00:34, 13.07it/s]"
     ]
    },
    {
     "name": "stdout",
     "output_type": "stream",
     "text": [
      "Request completed: 200\n",
      "Request completed: 200\n",
      "Request completed: 200\n"
     ]
    },
    {
     "name": "stderr",
     "output_type": "stream",
     "text": [
      "COLLECTING METRICS:  63%|██████▎   | 752/1202 [00:56<00:34, 13.12it/s]"
     ]
    },
    {
     "name": "stdout",
     "output_type": "stream",
     "text": [
      "Request completed: 200\n",
      "Request completed: 200\n",
      "Request completed: 200\n"
     ]
    },
    {
     "name": "stderr",
     "output_type": "stream",
     "text": [
      "COLLECTING METRICS:  63%|██████▎   | 756/1202 [00:57<00:35, 12.48it/s]"
     ]
    },
    {
     "name": "stdout",
     "output_type": "stream",
     "text": [
      "Request completed: 200\n",
      "Request completed: 200\n",
      "Request completed: 200\n"
     ]
    },
    {
     "name": "stderr",
     "output_type": "stream",
     "text": [
      "COLLECTING METRICS:  63%|██████▎   | 758/1202 [00:57<00:34, 12.88it/s]"
     ]
    },
    {
     "name": "stdout",
     "output_type": "stream",
     "text": [
      "Request completed: 200\n",
      "Request completed: 200\n",
      "Request completed: 200\n"
     ]
    },
    {
     "name": "stderr",
     "output_type": "stream",
     "text": [
      "COLLECTING METRICS:  63%|██████▎   | 762/1202 [00:57<00:33, 13.08it/s]"
     ]
    },
    {
     "name": "stdout",
     "output_type": "stream",
     "text": [
      "Request completed: 200\n",
      "Request completed: 200\n",
      "Request completed: 200\n"
     ]
    },
    {
     "name": "stderr",
     "output_type": "stream",
     "text": [
      "COLLECTING METRICS:  64%|██████▎   | 764/1202 [00:57<00:32, 13.56it/s]"
     ]
    },
    {
     "name": "stdout",
     "output_type": "stream",
     "text": [
      "Request completed: 200\n",
      "Request completed: 200\n",
      "Request completed: 200\n"
     ]
    },
    {
     "name": "stderr",
     "output_type": "stream",
     "text": [
      "COLLECTING METRICS:  64%|██████▍   | 768/1202 [00:58<00:33, 12.79it/s]"
     ]
    },
    {
     "name": "stdout",
     "output_type": "stream",
     "text": [
      "Request completed: 200\n",
      "Request completed: 200\n",
      "Request completed: 200\n"
     ]
    },
    {
     "name": "stderr",
     "output_type": "stream",
     "text": [
      "COLLECTING METRICS:  64%|██████▍   | 770/1202 [00:58<00:32, 13.20it/s]"
     ]
    },
    {
     "name": "stdout",
     "output_type": "stream",
     "text": [
      "Request completed: 200\n",
      "Request completed: 200\n",
      "Request completed: 200\n"
     ]
    },
    {
     "name": "stderr",
     "output_type": "stream",
     "text": [
      "COLLECTING METRICS:  64%|██████▍   | 774/1202 [00:58<00:33, 12.73it/s]"
     ]
    },
    {
     "name": "stdout",
     "output_type": "stream",
     "text": [
      "Request completed: 200\n",
      "Request completed: 200\n",
      "Request completed: 200\n"
     ]
    },
    {
     "name": "stderr",
     "output_type": "stream",
     "text": [
      "COLLECTING METRICS:  65%|██████▍   | 776/1202 [00:58<00:31, 13.32it/s]"
     ]
    },
    {
     "name": "stdout",
     "output_type": "stream",
     "text": [
      "Request completed: 200\n",
      "Request completed: 200\n",
      "Request completed: 200\n"
     ]
    },
    {
     "name": "stderr",
     "output_type": "stream",
     "text": [
      "COLLECTING METRICS:  65%|██████▍   | 780/1202 [00:59<00:31, 13.38it/s]"
     ]
    },
    {
     "name": "stdout",
     "output_type": "stream",
     "text": [
      "Request completed: 200\n",
      "Request completed: 200\n",
      "Request completed: 200\n"
     ]
    },
    {
     "name": "stderr",
     "output_type": "stream",
     "text": [
      "COLLECTING METRICS:  65%|██████▌   | 782/1202 [00:59<00:30, 13.68it/s]"
     ]
    },
    {
     "name": "stdout",
     "output_type": "stream",
     "text": [
      "Request completed: 200\n",
      "Request completed: 200\n",
      "Request completed: 200\n"
     ]
    },
    {
     "name": "stderr",
     "output_type": "stream",
     "text": [
      "COLLECTING METRICS:  65%|██████▌   | 786/1202 [00:59<00:29, 14.04it/s]"
     ]
    },
    {
     "name": "stdout",
     "output_type": "stream",
     "text": [
      "Request completed: 200\n",
      "Request completed: 200\n",
      "Request completed: 200\n",
      "Request completed: 200\n"
     ]
    },
    {
     "name": "stderr",
     "output_type": "stream",
     "text": [
      "COLLECTING METRICS:  66%|██████▌   | 790/1202 [00:59<00:28, 14.25it/s]"
     ]
    },
    {
     "name": "stdout",
     "output_type": "stream",
     "text": [
      "Request completed: 200\n",
      "Request completed: 200\n",
      "Request completed: 200\n"
     ]
    },
    {
     "name": "stderr",
     "output_type": "stream",
     "text": [
      "COLLECTING METRICS:  66%|██████▌   | 792/1202 [00:59<00:29, 13.97it/s]"
     ]
    },
    {
     "name": "stdout",
     "output_type": "stream",
     "text": [
      "Request completed: 200\n",
      "Request completed: 200\n",
      "Request completed: 200\n"
     ]
    },
    {
     "name": "stderr",
     "output_type": "stream",
     "text": [
      "COLLECTING METRICS:  66%|██████▌   | 796/1202 [01:00<00:29, 13.77it/s]"
     ]
    },
    {
     "name": "stdout",
     "output_type": "stream",
     "text": [
      "Request completed: 200\n",
      "Request completed: 200\n",
      "Request completed: 200\n"
     ]
    },
    {
     "name": "stderr",
     "output_type": "stream",
     "text": [
      "COLLECTING METRICS:  67%|██████▋   | 800/1202 [01:00<00:28, 14.06it/s]"
     ]
    },
    {
     "name": "stdout",
     "output_type": "stream",
     "text": [
      "Request completed: 200\n",
      "Request completed: 200\n",
      "Request completed: 200\n",
      "Request completed: 200\n"
     ]
    },
    {
     "name": "stderr",
     "output_type": "stream",
     "text": [
      "COLLECTING METRICS:  67%|██████▋   | 802/1202 [01:00<00:28, 14.05it/s]"
     ]
    },
    {
     "name": "stdout",
     "output_type": "stream",
     "text": [
      "Request completed: 200\n",
      "Request completed: 200\n",
      "Request completed: 200\n"
     ]
    },
    {
     "name": "stderr",
     "output_type": "stream",
     "text": [
      "COLLECTING METRICS:  67%|██████▋   | 806/1202 [01:00<00:28, 14.04it/s]"
     ]
    },
    {
     "name": "stdout",
     "output_type": "stream",
     "text": [
      "Request completed: 200\n",
      "Request completed: 200\n",
      "Request completed: 200\n",
      "Request completed: 200\n"
     ]
    },
    {
     "name": "stderr",
     "output_type": "stream",
     "text": [
      "COLLECTING METRICS:  67%|██████▋   | 810/1202 [01:01<00:27, 14.44it/s]"
     ]
    },
    {
     "name": "stdout",
     "output_type": "stream",
     "text": [
      "Request completed: 200\n",
      "Request completed: 200\n",
      "Request completed: 200\n"
     ]
    },
    {
     "name": "stderr",
     "output_type": "stream",
     "text": [
      "COLLECTING METRICS:  68%|██████▊   | 812/1202 [01:01<00:27, 14.21it/s]"
     ]
    },
    {
     "name": "stdout",
     "output_type": "stream",
     "text": [
      "Request completed: 200\n",
      "Request completed: 200\n",
      "Request completed: 200\n"
     ]
    },
    {
     "name": "stderr",
     "output_type": "stream",
     "text": [
      "COLLECTING METRICS:  68%|██████▊   | 816/1202 [01:01<00:26, 14.35it/s]"
     ]
    },
    {
     "name": "stdout",
     "output_type": "stream",
     "text": [
      "Request completed: 200\n",
      "Request completed: 200\n",
      "Request completed: 200\n",
      "Request completed: 200\n"
     ]
    },
    {
     "name": "stderr",
     "output_type": "stream",
     "text": [
      "COLLECTING METRICS:  68%|██████▊   | 820/1202 [01:01<00:26, 14.60it/s]"
     ]
    },
    {
     "name": "stdout",
     "output_type": "stream",
     "text": [
      "Request completed: 200\n",
      "Request completed: 200\n",
      "Request completed: 200\n",
      "Request completed: 200\n"
     ]
    },
    {
     "name": "stderr",
     "output_type": "stream",
     "text": [
      "COLLECTING METRICS:  69%|██████▊   | 824/1202 [01:02<00:26, 14.03it/s]"
     ]
    },
    {
     "name": "stdout",
     "output_type": "stream",
     "text": [
      "Request completed: 200\n",
      "Request completed: 200\n",
      "Request completed: 200\n"
     ]
    },
    {
     "name": "stderr",
     "output_type": "stream",
     "text": [
      "COLLECTING METRICS:  69%|██████▊   | 826/1202 [01:02<00:26, 14.00it/s]"
     ]
    },
    {
     "name": "stdout",
     "output_type": "stream",
     "text": [
      "Request completed: 200\n",
      "Request completed: 200\n",
      "Request completed: 200\n"
     ]
    },
    {
     "name": "stderr",
     "output_type": "stream",
     "text": [
      "COLLECTING METRICS:  69%|██████▉   | 830/1202 [01:02<00:27, 13.77it/s]"
     ]
    },
    {
     "name": "stdout",
     "output_type": "stream",
     "text": [
      "Request completed: 200\n",
      "Request completed: 200\n",
      "Request completed: 200\n"
     ]
    },
    {
     "name": "stderr",
     "output_type": "stream",
     "text": [
      "COLLECTING METRICS:  69%|██████▉   | 832/1202 [01:02<00:28, 13.19it/s]"
     ]
    },
    {
     "name": "stdout",
     "output_type": "stream",
     "text": [
      "Request completed: 200\n",
      "Request completed: 200\n",
      "Request completed: 200\n"
     ]
    },
    {
     "name": "stderr",
     "output_type": "stream",
     "text": [
      "COLLECTING METRICS:  70%|██████▉   | 836/1202 [01:03<00:27, 13.20it/s]"
     ]
    },
    {
     "name": "stdout",
     "output_type": "stream",
     "text": [
      "Request completed: 200\n",
      "Request completed: 200\n",
      "Request completed: 200\n"
     ]
    },
    {
     "name": "stderr",
     "output_type": "stream",
     "text": [
      "COLLECTING METRICS:  70%|██████▉   | 838/1202 [01:03<00:26, 13.71it/s]"
     ]
    },
    {
     "name": "stdout",
     "output_type": "stream",
     "text": [
      "Request completed: 200\n",
      "Request completed: 200\n",
      "Request completed: 200\n"
     ]
    },
    {
     "name": "stderr",
     "output_type": "stream",
     "text": [
      "COLLECTING METRICS:  70%|███████   | 842/1202 [01:03<00:25, 14.17it/s]"
     ]
    },
    {
     "name": "stdout",
     "output_type": "stream",
     "text": [
      "Request completed: 200\n",
      "Request completed: 200\n",
      "Request completed: 200\n"
     ]
    },
    {
     "name": "stderr",
     "output_type": "stream",
     "text": [
      "COLLECTING METRICS:  70%|███████   | 844/1202 [01:03<00:26, 13.59it/s]"
     ]
    },
    {
     "name": "stdout",
     "output_type": "stream",
     "text": [
      "Request completed: 200\n",
      "Request completed: 200\n",
      "Request completed: 200\n"
     ]
    },
    {
     "name": "stderr",
     "output_type": "stream",
     "text": [
      "COLLECTING METRICS:  71%|███████   | 848/1202 [01:03<00:25, 13.67it/s]"
     ]
    },
    {
     "name": "stdout",
     "output_type": "stream",
     "text": [
      "Request completed: 200\n",
      "Request completed: 200\n",
      "Request completed: 200\n"
     ]
    },
    {
     "name": "stderr",
     "output_type": "stream",
     "text": [
      "COLLECTING METRICS:  71%|███████   | 850/1202 [01:04<00:25, 13.99it/s]"
     ]
    },
    {
     "name": "stdout",
     "output_type": "stream",
     "text": [
      "Request completed: 200\n",
      "Request completed: 200\n",
      "Request completed: 200\n"
     ]
    },
    {
     "name": "stderr",
     "output_type": "stream",
     "text": [
      "COLLECTING METRICS:  71%|███████   | 854/1202 [01:04<00:24, 14.00it/s]"
     ]
    },
    {
     "name": "stdout",
     "output_type": "stream",
     "text": [
      "Request completed: 200\n",
      "Request completed: 200\n",
      "Request completed: 200\n"
     ]
    },
    {
     "name": "stderr",
     "output_type": "stream",
     "text": [
      "COLLECTING METRICS:  71%|███████   | 856/1202 [01:04<00:25, 13.77it/s]"
     ]
    },
    {
     "name": "stdout",
     "output_type": "stream",
     "text": [
      "Request completed: 200\n",
      "Request completed: 200\n",
      "Request completed: 200\n"
     ]
    },
    {
     "name": "stderr",
     "output_type": "stream",
     "text": [
      "COLLECTING METRICS:  72%|███████▏  | 860/1202 [01:04<00:23, 14.60it/s]"
     ]
    },
    {
     "name": "stdout",
     "output_type": "stream",
     "text": [
      "Request completed: 200\n",
      "Request completed: 200\n",
      "Request completed: 200\n",
      "Request completed: 200\n"
     ]
    },
    {
     "name": "stderr",
     "output_type": "stream",
     "text": [
      "COLLECTING METRICS:  72%|███████▏  | 864/1202 [01:05<00:23, 14.28it/s]"
     ]
    },
    {
     "name": "stdout",
     "output_type": "stream",
     "text": [
      "Request completed: 200\n",
      "Request completed: 200\n",
      "Request completed: 200\n"
     ]
    },
    {
     "name": "stderr",
     "output_type": "stream",
     "text": [
      "COLLECTING METRICS:  72%|███████▏  | 866/1202 [01:05<00:23, 14.28it/s]"
     ]
    },
    {
     "name": "stdout",
     "output_type": "stream",
     "text": [
      "Request completed: 200\n",
      "Request completed: 200\n",
      "Request completed: 200\n"
     ]
    },
    {
     "name": "stderr",
     "output_type": "stream",
     "text": [
      "COLLECTING METRICS:  72%|███████▏  | 870/1202 [01:05<00:24, 13.74it/s]"
     ]
    },
    {
     "name": "stdout",
     "output_type": "stream",
     "text": [
      "Request completed: 200\n",
      "Request completed: 200\n",
      "Request completed: 200\n"
     ]
    },
    {
     "name": "stderr",
     "output_type": "stream",
     "text": [
      "COLLECTING METRICS:  73%|███████▎  | 872/1202 [01:05<00:24, 13.74it/s]"
     ]
    },
    {
     "name": "stdout",
     "output_type": "stream",
     "text": [
      "Request completed: 200\n",
      "Request completed: 200\n",
      "Request completed: 200\n"
     ]
    },
    {
     "name": "stderr",
     "output_type": "stream",
     "text": [
      "COLLECTING METRICS:  73%|███████▎  | 876/1202 [01:05<00:23, 14.06it/s]"
     ]
    },
    {
     "name": "stdout",
     "output_type": "stream",
     "text": [
      "Request completed: 200\n",
      "Request completed: 200\n",
      "Request completed: 200\n",
      "Request completed: 200\n"
     ]
    },
    {
     "name": "stderr",
     "output_type": "stream",
     "text": [
      "COLLECTING METRICS:  73%|███████▎  | 880/1202 [01:06<00:23, 13.97it/s]"
     ]
    },
    {
     "name": "stdout",
     "output_type": "stream",
     "text": [
      "Request completed: 200\n",
      "Request completed: 200\n",
      "Request completed: 200\n"
     ]
    },
    {
     "name": "stderr",
     "output_type": "stream",
     "text": [
      "COLLECTING METRICS:  73%|███████▎  | 882/1202 [01:06<00:22, 14.23it/s]"
     ]
    },
    {
     "name": "stdout",
     "output_type": "stream",
     "text": [
      "Request completed: 200\n",
      "Request completed: 200\n",
      "Request completed: 200\n"
     ]
    },
    {
     "name": "stderr",
     "output_type": "stream",
     "text": [
      "COLLECTING METRICS:  74%|███████▎  | 886/1202 [01:06<00:22, 14.10it/s]"
     ]
    },
    {
     "name": "stdout",
     "output_type": "stream",
     "text": [
      "Request completed: 200\n",
      "Request completed: 200\n",
      "Request completed: 200\n"
     ]
    },
    {
     "name": "stderr",
     "output_type": "stream",
     "text": [
      "COLLECTING METRICS:  74%|███████▍  | 888/1202 [01:06<00:22, 14.06it/s]"
     ]
    },
    {
     "name": "stdout",
     "output_type": "stream",
     "text": [
      "Request completed: 200\n",
      "Request completed: 200\n",
      "Request completed: 200\n"
     ]
    },
    {
     "name": "stderr",
     "output_type": "stream",
     "text": [
      "COLLECTING METRICS:  74%|███████▍  | 892/1202 [01:07<00:23, 13.25it/s]"
     ]
    },
    {
     "name": "stdout",
     "output_type": "stream",
     "text": [
      "Request completed: 200\n",
      "Request completed: 200\n",
      "Request completed: 200\n"
     ]
    },
    {
     "name": "stderr",
     "output_type": "stream",
     "text": [
      "COLLECTING METRICS:  74%|███████▍  | 894/1202 [01:07<00:24, 12.73it/s]"
     ]
    },
    {
     "name": "stdout",
     "output_type": "stream",
     "text": [
      "Request completed: 200\n",
      "Request completed: 200\n",
      "Request completed: 200\n"
     ]
    },
    {
     "name": "stderr",
     "output_type": "stream",
     "text": [
      "COLLECTING METRICS:  75%|███████▍  | 898/1202 [01:07<00:23, 12.75it/s]"
     ]
    },
    {
     "name": "stdout",
     "output_type": "stream",
     "text": [
      "Request completed: 200\n",
      "Request completed: 200\n",
      "Request completed: 200\n"
     ]
    },
    {
     "name": "stderr",
     "output_type": "stream",
     "text": [
      "COLLECTING METRICS:  75%|███████▍  | 900/1202 [01:07<00:22, 13.41it/s]"
     ]
    },
    {
     "name": "stdout",
     "output_type": "stream",
     "text": [
      "Request completed: 200\n",
      "Request completed: 200\n",
      "Request completed: 200\n"
     ]
    },
    {
     "name": "stderr",
     "output_type": "stream",
     "text": [
      "COLLECTING METRICS:  75%|███████▌  | 904/1202 [01:07<00:22, 13.00it/s]"
     ]
    },
    {
     "name": "stdout",
     "output_type": "stream",
     "text": [
      "Request completed: 200\n",
      "Request completed: 200\n",
      "Request completed: 200\n"
     ]
    },
    {
     "name": "stderr",
     "output_type": "stream",
     "text": [
      "COLLECTING METRICS:  75%|███████▌  | 906/1202 [01:08<00:22, 12.93it/s]"
     ]
    },
    {
     "name": "stdout",
     "output_type": "stream",
     "text": [
      "Request completed: 200\n",
      "Request completed: 200\n",
      "Request completed: 200\n"
     ]
    },
    {
     "name": "stderr",
     "output_type": "stream",
     "text": [
      "COLLECTING METRICS:  76%|███████▌  | 910/1202 [01:08<00:21, 13.35it/s]"
     ]
    },
    {
     "name": "stdout",
     "output_type": "stream",
     "text": [
      "Request completed: 200\n",
      "Request completed: 200\n",
      "Request completed: 200\n",
      "Request completed: 200\n"
     ]
    },
    {
     "name": "stderr",
     "output_type": "stream",
     "text": [
      "COLLECTING METRICS:  76%|███████▌  | 914/1202 [01:08<00:21, 13.64it/s]"
     ]
    },
    {
     "name": "stdout",
     "output_type": "stream",
     "text": [
      "Request completed: 200\n",
      "Request completed: 200\n",
      "Request completed: 200\n"
     ]
    },
    {
     "name": "stderr",
     "output_type": "stream",
     "text": [
      "COLLECTING METRICS:  76%|███████▌  | 916/1202 [01:08<00:21, 13.50it/s]"
     ]
    },
    {
     "name": "stdout",
     "output_type": "stream",
     "text": [
      "Request completed: 200\n",
      "Request completed: 200\n",
      "Request completed: 200\n"
     ]
    },
    {
     "name": "stderr",
     "output_type": "stream",
     "text": [
      "COLLECTING METRICS:  77%|███████▋  | 920/1202 [01:09<00:21, 13.33it/s]"
     ]
    },
    {
     "name": "stdout",
     "output_type": "stream",
     "text": [
      "Request completed: 200\n",
      "Request completed: 200\n",
      "Request completed: 200\n"
     ]
    },
    {
     "name": "stderr",
     "output_type": "stream",
     "text": [
      "COLLECTING METRICS:  77%|███████▋  | 922/1202 [01:09<00:20, 13.76it/s]"
     ]
    },
    {
     "name": "stdout",
     "output_type": "stream",
     "text": [
      "Request completed: 200\n",
      "Request completed: 200\n",
      "Request completed: 200\n"
     ]
    },
    {
     "name": "stderr",
     "output_type": "stream",
     "text": [
      "COLLECTING METRICS:  77%|███████▋  | 926/1202 [01:09<00:19, 14.10it/s]"
     ]
    },
    {
     "name": "stdout",
     "output_type": "stream",
     "text": [
      "Request completed: 200\n",
      "Request completed: 200\n",
      "Request completed: 200\n"
     ]
    },
    {
     "name": "stderr",
     "output_type": "stream",
     "text": [
      "COLLECTING METRICS:  77%|███████▋  | 928/1202 [01:09<00:19, 13.75it/s]"
     ]
    },
    {
     "name": "stdout",
     "output_type": "stream",
     "text": [
      "Request completed: 200\n",
      "Request completed: 200\n",
      "Request completed: 200\n"
     ]
    },
    {
     "name": "stderr",
     "output_type": "stream",
     "text": [
      "COLLECTING METRICS:  78%|███████▊  | 932/1202 [01:10<00:19, 14.09it/s]"
     ]
    },
    {
     "name": "stdout",
     "output_type": "stream",
     "text": [
      "Request completed: 200\n",
      "Request completed: 200\n",
      "Request completed: 200\n",
      "Request completed: 200\n"
     ]
    },
    {
     "name": "stderr",
     "output_type": "stream",
     "text": [
      "COLLECTING METRICS:  78%|███████▊  | 936/1202 [01:10<00:19, 13.87it/s]"
     ]
    },
    {
     "name": "stdout",
     "output_type": "stream",
     "text": [
      "Request completed: 200\n",
      "Request completed: 200\n",
      "Request completed: 200\n"
     ]
    },
    {
     "name": "stderr",
     "output_type": "stream",
     "text": [
      "COLLECTING METRICS:  78%|███████▊  | 938/1202 [01:10<00:18, 14.28it/s]"
     ]
    },
    {
     "name": "stdout",
     "output_type": "stream",
     "text": [
      "Request completed: 200\n",
      "Request completed: 200\n",
      "Request completed: 200\n"
     ]
    },
    {
     "name": "stderr",
     "output_type": "stream",
     "text": [
      "COLLECTING METRICS:  78%|███████▊  | 942/1202 [01:10<00:17, 14.50it/s]"
     ]
    },
    {
     "name": "stdout",
     "output_type": "stream",
     "text": [
      "Request completed: 200\n",
      "Request completed: 200\n",
      "Request completed: 200\n",
      "Request completed: 200\n"
     ]
    },
    {
     "name": "stderr",
     "output_type": "stream",
     "text": [
      "COLLECTING METRICS:  79%|███████▊  | 946/1202 [01:10<00:17, 14.47it/s]"
     ]
    },
    {
     "name": "stdout",
     "output_type": "stream",
     "text": [
      "Request completed: 200\n",
      "Request completed: 200\n",
      "Request completed: 200\n",
      "Request completed: 200\n"
     ]
    },
    {
     "name": "stderr",
     "output_type": "stream",
     "text": [
      "COLLECTING METRICS:  79%|███████▉  | 950/1202 [01:11<00:17, 14.41it/s]"
     ]
    },
    {
     "name": "stdout",
     "output_type": "stream",
     "text": [
      "Request completed: 200\n",
      "Request completed: 200\n",
      "Request completed: 200\n"
     ]
    },
    {
     "name": "stderr",
     "output_type": "stream",
     "text": [
      "COLLECTING METRICS:  79%|███████▉  | 952/1202 [01:11<00:17, 14.35it/s]"
     ]
    },
    {
     "name": "stdout",
     "output_type": "stream",
     "text": [
      "Request completed: 200\n",
      "Request completed: 200\n",
      "Request completed: 200\n"
     ]
    },
    {
     "name": "stderr",
     "output_type": "stream",
     "text": [
      "COLLECTING METRICS:  80%|███████▉  | 956/1202 [01:11<00:16, 14.55it/s]"
     ]
    },
    {
     "name": "stdout",
     "output_type": "stream",
     "text": [
      "Request completed: 200\n",
      "Request completed: 200\n",
      "Request completed: 200\n",
      "Request completed: 200\n"
     ]
    },
    {
     "name": "stderr",
     "output_type": "stream",
     "text": [
      "COLLECTING METRICS:  80%|███████▉  | 960/1202 [01:11<00:16, 14.82it/s]"
     ]
    },
    {
     "name": "stdout",
     "output_type": "stream",
     "text": [
      "Request completed: 200\n",
      "Request completed: 200\n",
      "Request completed: 200\n",
      "Request completed: 200\n"
     ]
    },
    {
     "name": "stderr",
     "output_type": "stream",
     "text": [
      "COLLECTING METRICS:  80%|████████  | 964/1202 [01:12<00:17, 13.78it/s]"
     ]
    },
    {
     "name": "stdout",
     "output_type": "stream",
     "text": [
      "Request completed: 200\n",
      "Request completed: 200\n",
      "Request completed: 200\n"
     ]
    },
    {
     "name": "stderr",
     "output_type": "stream",
     "text": [
      "COLLECTING METRICS:  81%|████████  | 968/1202 [01:12<00:16, 14.18it/s]"
     ]
    },
    {
     "name": "stdout",
     "output_type": "stream",
     "text": [
      "Request completed: 200\n",
      "Request completed: 200\n",
      "Request completed: 200\n",
      "Request completed: 200\n"
     ]
    },
    {
     "name": "stderr",
     "output_type": "stream",
     "text": [
      "COLLECTING METRICS:  81%|████████  | 970/1202 [01:12<00:16, 14.37it/s]"
     ]
    },
    {
     "name": "stdout",
     "output_type": "stream",
     "text": [
      "Request completed: 200\n",
      "Request completed: 200\n",
      "Request completed: 200\n"
     ]
    },
    {
     "name": "stderr",
     "output_type": "stream",
     "text": [
      "COLLECTING METRICS:  81%|████████  | 974/1202 [01:12<00:16, 13.98it/s]"
     ]
    },
    {
     "name": "stdout",
     "output_type": "stream",
     "text": [
      "Request completed: 200\n",
      "Request completed: 200\n",
      "Request completed: 200\n"
     ]
    },
    {
     "name": "stderr",
     "output_type": "stream",
     "text": [
      "COLLECTING METRICS:  81%|████████  | 976/1202 [01:13<00:16, 14.08it/s]"
     ]
    },
    {
     "name": "stdout",
     "output_type": "stream",
     "text": [
      "Request completed: 200\n",
      "Request completed: 200\n",
      "Request completed: 200\n"
     ]
    },
    {
     "name": "stderr",
     "output_type": "stream",
     "text": [
      "COLLECTING METRICS:  82%|████████▏ | 980/1202 [01:13<00:15, 14.23it/s]"
     ]
    },
    {
     "name": "stdout",
     "output_type": "stream",
     "text": [
      "Request completed: 200\n",
      "Request completed: 200\n",
      "Request completed: 200\n",
      "Request completed: 200\n"
     ]
    },
    {
     "name": "stderr",
     "output_type": "stream",
     "text": [
      "COLLECTING METRICS:  82%|████████▏ | 984/1202 [01:13<00:15, 14.21it/s]"
     ]
    },
    {
     "name": "stdout",
     "output_type": "stream",
     "text": [
      "Request completed: 200\n",
      "Request completed: 200\n",
      "Request completed: 200\n"
     ]
    },
    {
     "name": "stderr",
     "output_type": "stream",
     "text": [
      "COLLECTING METRICS:  82%|████████▏ | 986/1202 [01:13<00:15, 13.99it/s]"
     ]
    },
    {
     "name": "stdout",
     "output_type": "stream",
     "text": [
      "Request completed: 200\n",
      "Request completed: 200\n",
      "Request completed: 200\n"
     ]
    },
    {
     "name": "stderr",
     "output_type": "stream",
     "text": [
      "COLLECTING METRICS:  82%|████████▏ | 990/1202 [01:14<00:16, 12.71it/s]"
     ]
    },
    {
     "name": "stdout",
     "output_type": "stream",
     "text": [
      "Request completed: 200\n",
      "Request completed: 200\n",
      "Request completed: 200\n"
     ]
    },
    {
     "name": "stderr",
     "output_type": "stream",
     "text": [
      "COLLECTING METRICS:  83%|████████▎ | 992/1202 [01:14<00:16, 12.84it/s]"
     ]
    },
    {
     "name": "stdout",
     "output_type": "stream",
     "text": [
      "Request completed: 200\n",
      "Request completed: 200\n",
      "Request completed: 200\n"
     ]
    },
    {
     "name": "stderr",
     "output_type": "stream",
     "text": [
      "COLLECTING METRICS:  83%|████████▎ | 996/1202 [01:14<00:14, 13.78it/s]"
     ]
    },
    {
     "name": "stdout",
     "output_type": "stream",
     "text": [
      "Request completed: 200\n",
      "Request completed: 200\n",
      "Request completed: 200\n",
      "Request completed: 200\n"
     ]
    },
    {
     "name": "stderr",
     "output_type": "stream",
     "text": [
      "COLLECTING METRICS:  83%|████████▎ | 1000/1202 [01:14<00:14, 13.60it/s]"
     ]
    },
    {
     "name": "stdout",
     "output_type": "stream",
     "text": [
      "Request completed: 200\n",
      "Request completed: 200\n",
      "Request completed: 200\n"
     ]
    },
    {
     "name": "stderr",
     "output_type": "stream",
     "text": [
      "COLLECTING METRICS:  83%|████████▎ | 1002/1202 [01:15<00:14, 13.44it/s]"
     ]
    },
    {
     "name": "stdout",
     "output_type": "stream",
     "text": [
      "Request completed: 200\n",
      "Request completed: 200\n",
      "Request completed: 200\n"
     ]
    },
    {
     "name": "stderr",
     "output_type": "stream",
     "text": [
      "COLLECTING METRICS:  84%|████████▎ | 1006/1202 [01:15<00:13, 14.34it/s]"
     ]
    },
    {
     "name": "stdout",
     "output_type": "stream",
     "text": [
      "Request completed: 200\n",
      "Request completed: 200\n",
      "Request completed: 200\n",
      "Request completed: 200\n"
     ]
    },
    {
     "name": "stderr",
     "output_type": "stream",
     "text": [
      "COLLECTING METRICS:  84%|████████▍ | 1010/1202 [01:15<00:13, 14.08it/s]"
     ]
    },
    {
     "name": "stdout",
     "output_type": "stream",
     "text": [
      "Request completed: 200\n",
      "Request completed: 200\n",
      "Request completed: 200\n"
     ]
    },
    {
     "name": "stderr",
     "output_type": "stream",
     "text": [
      "COLLECTING METRICS:  84%|████████▍ | 1012/1202 [01:15<00:13, 14.06it/s]"
     ]
    },
    {
     "name": "stdout",
     "output_type": "stream",
     "text": [
      "Request completed: 200\n",
      "Request completed: 200\n",
      "Request completed: 200\n"
     ]
    },
    {
     "name": "stderr",
     "output_type": "stream",
     "text": [
      "COLLECTING METRICS:  85%|████████▍ | 1016/1202 [01:15<00:12, 14.39it/s]"
     ]
    },
    {
     "name": "stdout",
     "output_type": "stream",
     "text": [
      "Request completed: 200\n",
      "Request completed: 200\n",
      "Request completed: 200\n",
      "Request completed: 200\n"
     ]
    },
    {
     "name": "stderr",
     "output_type": "stream",
     "text": [
      "COLLECTING METRICS:  85%|████████▍ | 1020/1202 [01:16<00:13, 13.35it/s]"
     ]
    },
    {
     "name": "stdout",
     "output_type": "stream",
     "text": [
      "Request completed: 200\n",
      "Request completed: 200\n",
      "Request completed: 200\n"
     ]
    },
    {
     "name": "stderr",
     "output_type": "stream",
     "text": [
      "COLLECTING METRICS:  85%|████████▌ | 1022/1202 [01:16<00:13, 13.54it/s]"
     ]
    },
    {
     "name": "stdout",
     "output_type": "stream",
     "text": [
      "Request completed: 200\n",
      "Request completed: 200\n",
      "Request completed: 200\n"
     ]
    },
    {
     "name": "stderr",
     "output_type": "stream",
     "text": [
      "COLLECTING METRICS:  85%|████████▌ | 1026/1202 [01:16<00:12, 13.75it/s]"
     ]
    },
    {
     "name": "stdout",
     "output_type": "stream",
     "text": [
      "Request completed: 200\n",
      "Request completed: 200\n",
      "Request completed: 200\n"
     ]
    },
    {
     "name": "stderr",
     "output_type": "stream",
     "text": [
      "COLLECTING METRICS:  86%|████████▌ | 1030/1202 [01:16<00:12, 14.33it/s]"
     ]
    },
    {
     "name": "stdout",
     "output_type": "stream",
     "text": [
      "Request completed: 200\n",
      "Request completed: 200\n",
      "Request completed: 200\n",
      "Request completed: 200\n"
     ]
    },
    {
     "name": "stderr",
     "output_type": "stream",
     "text": [
      "COLLECTING METRICS:  86%|████████▌ | 1032/1202 [01:17<00:12, 14.06it/s]"
     ]
    },
    {
     "name": "stdout",
     "output_type": "stream",
     "text": [
      "Request completed: 200\n",
      "Request completed: 200\n",
      "Request completed: 200\n"
     ]
    },
    {
     "name": "stderr",
     "output_type": "stream",
     "text": [
      "COLLECTING METRICS:  86%|████████▌ | 1036/1202 [01:17<00:11, 14.57it/s]"
     ]
    },
    {
     "name": "stdout",
     "output_type": "stream",
     "text": [
      "Request completed: 200\n",
      "Request completed: 200\n",
      "Request completed: 200\n",
      "Request completed: 200\n"
     ]
    },
    {
     "name": "stderr",
     "output_type": "stream",
     "text": [
      "COLLECTING METRICS:  87%|████████▋ | 1040/1202 [01:17<00:11, 13.76it/s]"
     ]
    },
    {
     "name": "stdout",
     "output_type": "stream",
     "text": [
      "Request completed: 200\n",
      "Request completed: 200\n",
      "Request completed: 200\n"
     ]
    },
    {
     "name": "stderr",
     "output_type": "stream",
     "text": [
      "COLLECTING METRICS:  87%|████████▋ | 1042/1202 [01:17<00:11, 13.44it/s]"
     ]
    },
    {
     "name": "stdout",
     "output_type": "stream",
     "text": [
      "Request completed: 200\n",
      "Request completed: 200\n",
      "Request completed: 200\n"
     ]
    },
    {
     "name": "stderr",
     "output_type": "stream",
     "text": [
      "COLLECTING METRICS:  87%|████████▋ | 1046/1202 [01:18<00:11, 13.10it/s]"
     ]
    },
    {
     "name": "stdout",
     "output_type": "stream",
     "text": [
      "Request completed: 200\n",
      "Request completed: 200\n",
      "Request completed: 200\n"
     ]
    },
    {
     "name": "stderr",
     "output_type": "stream",
     "text": [
      "COLLECTING METRICS:  87%|████████▋ | 1048/1202 [01:18<00:11, 12.88it/s]"
     ]
    },
    {
     "name": "stdout",
     "output_type": "stream",
     "text": [
      "Request completed: 200\n",
      "Request completed: 200\n",
      "Request completed: 200\n"
     ]
    },
    {
     "name": "stderr",
     "output_type": "stream",
     "text": [
      "COLLECTING METRICS:  88%|████████▊ | 1052/1202 [01:18<00:11, 13.41it/s]"
     ]
    },
    {
     "name": "stdout",
     "output_type": "stream",
     "text": [
      "Request completed: 200\n",
      "Request completed: 200\n",
      "Request completed: 200\n"
     ]
    },
    {
     "name": "stderr",
     "output_type": "stream",
     "text": [
      "COLLECTING METRICS:  88%|████████▊ | 1056/1202 [01:18<00:10, 14.28it/s]"
     ]
    },
    {
     "name": "stdout",
     "output_type": "stream",
     "text": [
      "Request completed: 200\n",
      "Request completed: 200\n",
      "Request completed: 200\n",
      "Request completed: 200\n"
     ]
    },
    {
     "name": "stderr",
     "output_type": "stream",
     "text": [
      "COLLECTING METRICS:  88%|████████▊ | 1058/1202 [01:19<00:09, 14.53it/s]"
     ]
    },
    {
     "name": "stdout",
     "output_type": "stream",
     "text": [
      "Request completed: 200\n",
      "Request completed: 200\n",
      "Request completed: 200\n"
     ]
    },
    {
     "name": "stderr",
     "output_type": "stream",
     "text": [
      "COLLECTING METRICS:  88%|████████▊ | 1062/1202 [01:19<00:10, 13.97it/s]"
     ]
    },
    {
     "name": "stdout",
     "output_type": "stream",
     "text": [
      "Request completed: 200\n",
      "Request completed: 200\n",
      "Request completed: 200\n"
     ]
    },
    {
     "name": "stderr",
     "output_type": "stream",
     "text": [
      "COLLECTING METRICS:  89%|████████▊ | 1064/1202 [01:19<00:10, 13.65it/s]"
     ]
    },
    {
     "name": "stdout",
     "output_type": "stream",
     "text": [
      "Request completed: 200\n",
      "Request completed: 200\n",
      "Request completed: 200\n"
     ]
    },
    {
     "name": "stderr",
     "output_type": "stream",
     "text": [
      "COLLECTING METRICS:  89%|████████▉ | 1068/1202 [01:19<00:10, 13.19it/s]"
     ]
    },
    {
     "name": "stdout",
     "output_type": "stream",
     "text": [
      "Request completed: 200\n",
      "Request completed: 200\n",
      "Request completed: 200\n"
     ]
    },
    {
     "name": "stderr",
     "output_type": "stream",
     "text": [
      "COLLECTING METRICS:  89%|████████▉ | 1070/1202 [01:19<00:10, 13.04it/s]"
     ]
    },
    {
     "name": "stdout",
     "output_type": "stream",
     "text": [
      "Request completed: 200\n",
      "Request completed: 200\n",
      "Request completed: 200\n"
     ]
    },
    {
     "name": "stderr",
     "output_type": "stream",
     "text": [
      "COLLECTING METRICS:  89%|████████▉ | 1074/1202 [01:20<00:09, 13.32it/s]"
     ]
    },
    {
     "name": "stdout",
     "output_type": "stream",
     "text": [
      "Request completed: 200\n",
      "Request completed: 200\n",
      "Request completed: 200\n"
     ]
    },
    {
     "name": "stderr",
     "output_type": "stream",
     "text": [
      "COLLECTING METRICS:  90%|████████▉ | 1076/1202 [01:20<00:09, 13.11it/s]"
     ]
    },
    {
     "name": "stdout",
     "output_type": "stream",
     "text": [
      "Request completed: 200\n",
      "Request completed: 200\n",
      "Request completed: 200\n"
     ]
    },
    {
     "name": "stderr",
     "output_type": "stream",
     "text": [
      "COLLECTING METRICS:  90%|████████▉ | 1080/1202 [01:20<00:08, 13.70it/s]"
     ]
    },
    {
     "name": "stdout",
     "output_type": "stream",
     "text": [
      "Request completed: 200\n",
      "Request completed: 200\n",
      "Request completed: 200\n"
     ]
    },
    {
     "name": "stderr",
     "output_type": "stream",
     "text": [
      "COLLECTING METRICS:  90%|█████████ | 1082/1202 [01:20<00:08, 13.37it/s]"
     ]
    },
    {
     "name": "stdout",
     "output_type": "stream",
     "text": [
      "Request completed: 200\n",
      "Request completed: 200\n",
      "Request completed: 200\n"
     ]
    },
    {
     "name": "stderr",
     "output_type": "stream",
     "text": [
      "COLLECTING METRICS:  90%|█████████ | 1086/1202 [01:21<00:08, 13.51it/s]"
     ]
    },
    {
     "name": "stdout",
     "output_type": "stream",
     "text": [
      "Request completed: 200\n",
      "Request completed: 200\n",
      "Request completed: 200\n",
      "Request completed: 200\n"
     ]
    },
    {
     "name": "stderr",
     "output_type": "stream",
     "text": [
      "COLLECTING METRICS:  91%|█████████ | 1090/1202 [01:21<00:08, 13.69it/s]"
     ]
    },
    {
     "name": "stdout",
     "output_type": "stream",
     "text": [
      "Request completed: 200\n",
      "Request completed: 200\n",
      "Request completed: 200\n"
     ]
    },
    {
     "name": "stderr",
     "output_type": "stream",
     "text": [
      "COLLECTING METRICS:  91%|█████████ | 1092/1202 [01:21<00:07, 13.86it/s]"
     ]
    },
    {
     "name": "stdout",
     "output_type": "stream",
     "text": [
      "Request completed: 200\n",
      "Request completed: 200\n",
      "Request completed: 200\n",
      "Request completed: 200\n"
     ]
    },
    {
     "name": "stderr",
     "output_type": "stream",
     "text": [
      "COLLECTING METRICS:  91%|█████████ | 1096/1202 [01:21<00:07, 13.83it/s]"
     ]
    },
    {
     "name": "stdout",
     "output_type": "stream",
     "text": [
      "Request completed: 200\n",
      "Request completed: 200\n",
      "Request completed: 200\n"
     ]
    },
    {
     "name": "stderr",
     "output_type": "stream",
     "text": [
      "COLLECTING METRICS:  92%|█████████▏| 1100/1202 [01:22<00:07, 13.95it/s]"
     ]
    },
    {
     "name": "stdout",
     "output_type": "stream",
     "text": [
      "Request completed: 200\n",
      "Request completed: 200\n",
      "Request completed: 200\n"
     ]
    },
    {
     "name": "stderr",
     "output_type": "stream",
     "text": [
      "COLLECTING METRICS:  92%|█████████▏| 1102/1202 [01:22<00:07, 13.51it/s]"
     ]
    },
    {
     "name": "stdout",
     "output_type": "stream",
     "text": [
      "Request completed: 200\n",
      "Request completed: 200\n",
      "Request completed: 200\n"
     ]
    },
    {
     "name": "stderr",
     "output_type": "stream",
     "text": [
      "COLLECTING METRICS:  92%|█████████▏| 1106/1202 [01:22<00:07, 13.50it/s]"
     ]
    },
    {
     "name": "stdout",
     "output_type": "stream",
     "text": [
      "Request completed: 200\n",
      "Request completed: 200\n",
      "Request completed: 200\n"
     ]
    },
    {
     "name": "stderr",
     "output_type": "stream",
     "text": [
      "COLLECTING METRICS:  92%|█████████▏| 1108/1202 [01:22<00:06, 13.75it/s]"
     ]
    },
    {
     "name": "stdout",
     "output_type": "stream",
     "text": [
      "Request completed: 200\n",
      "Request completed: 200\n",
      "Request completed: 200\n"
     ]
    },
    {
     "name": "stderr",
     "output_type": "stream",
     "text": [
      "COLLECTING METRICS:  93%|█████████▎| 1112/1202 [01:23<00:06, 13.31it/s]"
     ]
    },
    {
     "name": "stdout",
     "output_type": "stream",
     "text": [
      "Request completed: 200\n",
      "Request completed: 200\n",
      "Request completed: 200\n"
     ]
    },
    {
     "name": "stderr",
     "output_type": "stream",
     "text": [
      "COLLECTING METRICS:  93%|█████████▎| 1114/1202 [01:23<00:06, 13.71it/s]"
     ]
    },
    {
     "name": "stdout",
     "output_type": "stream",
     "text": [
      "Request completed: 200\n",
      "Request completed: 200\n",
      "Request completed: 200\n"
     ]
    },
    {
     "name": "stderr",
     "output_type": "stream",
     "text": [
      "COLLECTING METRICS:  93%|█████████▎| 1118/1202 [01:23<00:06, 13.93it/s]"
     ]
    },
    {
     "name": "stdout",
     "output_type": "stream",
     "text": [
      "Request completed: 200\n",
      "Request completed: 200\n",
      "Request completed: 200\n"
     ]
    },
    {
     "name": "stderr",
     "output_type": "stream",
     "text": [
      "COLLECTING METRICS:  93%|█████████▎| 1120/1202 [01:23<00:05, 14.20it/s]"
     ]
    },
    {
     "name": "stdout",
     "output_type": "stream",
     "text": [
      "Request completed: 200\n",
      "Request completed: 200\n",
      "Request completed: 200\n"
     ]
    },
    {
     "name": "stderr",
     "output_type": "stream",
     "text": [
      "COLLECTING METRICS:  94%|█████████▎| 1124/1202 [01:23<00:05, 13.82it/s]"
     ]
    },
    {
     "name": "stdout",
     "output_type": "stream",
     "text": [
      "Request completed: 200\n",
      "Request completed: 200\n",
      "Request completed: 200\n"
     ]
    },
    {
     "name": "stderr",
     "output_type": "stream",
     "text": [
      "COLLECTING METRICS:  94%|█████████▎| 1126/1202 [01:24<00:05, 14.26it/s]"
     ]
    },
    {
     "name": "stdout",
     "output_type": "stream",
     "text": [
      "Request completed: 200\n",
      "Request completed: 200\n",
      "Request completed: 200\n"
     ]
    },
    {
     "name": "stderr",
     "output_type": "stream",
     "text": [
      "COLLECTING METRICS:  94%|█████████▍| 1130/1202 [01:24<00:05, 14.33it/s]"
     ]
    },
    {
     "name": "stdout",
     "output_type": "stream",
     "text": [
      "Request completed: 200\n",
      "Request completed: 200\n",
      "Request completed: 200\n"
     ]
    },
    {
     "name": "stderr",
     "output_type": "stream",
     "text": [
      "COLLECTING METRICS:  94%|█████████▍| 1132/1202 [01:24<00:04, 14.34it/s]"
     ]
    },
    {
     "name": "stdout",
     "output_type": "stream",
     "text": [
      "Request completed: 200\n",
      "Request completed: 200\n",
      "Request completed: 200\n"
     ]
    },
    {
     "name": "stderr",
     "output_type": "stream",
     "text": [
      "COLLECTING METRICS:  95%|█████████▍| 1136/1202 [01:24<00:04, 14.17it/s]"
     ]
    },
    {
     "name": "stdout",
     "output_type": "stream",
     "text": [
      "Request completed: 200\n",
      "Request completed: 200\n",
      "Request completed: 200\n"
     ]
    },
    {
     "name": "stderr",
     "output_type": "stream",
     "text": [
      "COLLECTING METRICS:  95%|█████████▍| 1140/1202 [01:24<00:04, 14.65it/s]"
     ]
    },
    {
     "name": "stdout",
     "output_type": "stream",
     "text": [
      "Request completed: 200\n",
      "Request completed: 200\n",
      "Request completed: 200\n",
      "Request completed: 200\n"
     ]
    },
    {
     "name": "stderr",
     "output_type": "stream",
     "text": [
      "COLLECTING METRICS:  95%|█████████▌| 1142/1202 [01:25<00:04, 14.53it/s]"
     ]
    },
    {
     "name": "stdout",
     "output_type": "stream",
     "text": [
      "Request completed: 200\n",
      "Request completed: 200\n",
      "Request completed: 200\n"
     ]
    },
    {
     "name": "stderr",
     "output_type": "stream",
     "text": [
      "COLLECTING METRICS:  95%|█████████▌| 1146/1202 [01:25<00:03, 14.28it/s]"
     ]
    },
    {
     "name": "stdout",
     "output_type": "stream",
     "text": [
      "Request completed: 200\n",
      "Request completed: 200\n",
      "Request completed: 200\n",
      "Request completed: 200\n"
     ]
    },
    {
     "name": "stderr",
     "output_type": "stream",
     "text": [
      "COLLECTING METRICS:  96%|█████████▌| 1150/1202 [01:25<00:03, 14.67it/s]"
     ]
    },
    {
     "name": "stdout",
     "output_type": "stream",
     "text": [
      "Request completed: 200\n",
      "Request completed: 200\n",
      "Request completed: 200\n",
      "Request completed: 200\n"
     ]
    },
    {
     "name": "stderr",
     "output_type": "stream",
     "text": [
      "COLLECTING METRICS:  96%|█████████▌| 1154/1202 [01:25<00:03, 13.72it/s]"
     ]
    },
    {
     "name": "stdout",
     "output_type": "stream",
     "text": [
      "Request completed: 200\n",
      "Request completed: 200\n",
      "Request completed: 200\n"
     ]
    },
    {
     "name": "stderr",
     "output_type": "stream",
     "text": [
      "COLLECTING METRICS:  96%|█████████▌| 1156/1202 [01:26<00:03, 13.27it/s]"
     ]
    },
    {
     "name": "stdout",
     "output_type": "stream",
     "text": [
      "Request completed: 200\n",
      "Request completed: 200\n",
      "Request completed: 200\n"
     ]
    },
    {
     "name": "stderr",
     "output_type": "stream",
     "text": [
      "COLLECTING METRICS:  97%|█████████▋| 1160/1202 [01:26<00:03, 13.93it/s]"
     ]
    },
    {
     "name": "stdout",
     "output_type": "stream",
     "text": [
      "Request completed: 200\n",
      "Request completed: 200\n",
      "Request completed: 200\n"
     ]
    },
    {
     "name": "stderr",
     "output_type": "stream",
     "text": [
      "COLLECTING METRICS:  97%|█████████▋| 1162/1202 [01:26<00:02, 13.82it/s]"
     ]
    },
    {
     "name": "stdout",
     "output_type": "stream",
     "text": [
      "Request completed: 200\n",
      "Request completed: 200\n",
      "Request completed: 200\n"
     ]
    },
    {
     "name": "stderr",
     "output_type": "stream",
     "text": [
      "COLLECTING METRICS:  97%|█████████▋| 1166/1202 [01:26<00:02, 13.69it/s]"
     ]
    },
    {
     "name": "stdout",
     "output_type": "stream",
     "text": [
      "Request completed: 200\n",
      "Request completed: 200\n",
      "Request completed: 200\n"
     ]
    },
    {
     "name": "stderr",
     "output_type": "stream",
     "text": [
      "COLLECTING METRICS:  97%|█████████▋| 1168/1202 [01:27<00:02, 13.66it/s]"
     ]
    },
    {
     "name": "stdout",
     "output_type": "stream",
     "text": [
      "Request completed: 200\n",
      "Request completed: 200\n",
      "Request completed: 200\n"
     ]
    },
    {
     "name": "stderr",
     "output_type": "stream",
     "text": [
      "COLLECTING METRICS:  98%|█████████▊| 1172/1202 [01:27<00:02, 13.37it/s]"
     ]
    },
    {
     "name": "stdout",
     "output_type": "stream",
     "text": [
      "Request completed: 200\n",
      "Request completed: 200\n",
      "Request completed: 200\n"
     ]
    },
    {
     "name": "stderr",
     "output_type": "stream",
     "text": [
      "COLLECTING METRICS:  98%|█████████▊| 1174/1202 [01:27<00:02, 13.85it/s]"
     ]
    },
    {
     "name": "stdout",
     "output_type": "stream",
     "text": [
      "Request completed: 200\n",
      "Request completed: 200\n",
      "Request completed: 200\n"
     ]
    },
    {
     "name": "stderr",
     "output_type": "stream",
     "text": [
      "COLLECTING METRICS:  98%|█████████▊| 1178/1202 [01:27<00:01, 14.07it/s]"
     ]
    },
    {
     "name": "stdout",
     "output_type": "stream",
     "text": [
      "Request completed: 200\n",
      "Request completed: 200\n",
      "Request completed: 200\n"
     ]
    },
    {
     "name": "stderr",
     "output_type": "stream",
     "text": [
      "COLLECTING METRICS:  98%|█████████▊| 1180/1202 [01:27<00:01, 13.22it/s]"
     ]
    },
    {
     "name": "stdout",
     "output_type": "stream",
     "text": [
      "Request completed: 200\n",
      "Request completed: 200\n",
      "Request completed: 200\n"
     ]
    },
    {
     "name": "stderr",
     "output_type": "stream",
     "text": [
      "COLLECTING METRICS:  99%|█████████▊| 1184/1202 [01:28<00:01, 13.33it/s]"
     ]
    },
    {
     "name": "stdout",
     "output_type": "stream",
     "text": [
      "Request completed: 200\n",
      "Request completed: 200\n",
      "Request completed: 200\n"
     ]
    },
    {
     "name": "stderr",
     "output_type": "stream",
     "text": [
      "COLLECTING METRICS:  99%|█████████▊| 1186/1202 [01:28<00:01, 13.68it/s]"
     ]
    },
    {
     "name": "stdout",
     "output_type": "stream",
     "text": [
      "Request completed: 200\n",
      "Request completed: 200\n",
      "Request completed: 200\n"
     ]
    },
    {
     "name": "stderr",
     "output_type": "stream",
     "text": [
      "COLLECTING METRICS:  99%|█████████▉| 1190/1202 [01:28<00:00, 13.06it/s]"
     ]
    },
    {
     "name": "stdout",
     "output_type": "stream",
     "text": [
      "Request completed: 200\n",
      "Request completed: 200\n",
      "Request completed: 200\n"
     ]
    },
    {
     "name": "stderr",
     "output_type": "stream",
     "text": [
      "COLLECTING METRICS:  99%|█████████▉| 1192/1202 [01:28<00:00, 12.99it/s]"
     ]
    },
    {
     "name": "stdout",
     "output_type": "stream",
     "text": [
      "Request completed: 200\n",
      "Request completed: 200\n",
      "Request completed: 200\n"
     ]
    },
    {
     "name": "stderr",
     "output_type": "stream",
     "text": [
      "COLLECTING METRICS: 100%|█████████▉| 1196/1202 [01:29<00:00, 13.59it/s]"
     ]
    },
    {
     "name": "stdout",
     "output_type": "stream",
     "text": [
      "Request completed: 200\n",
      "Request completed: 200\n",
      "Request completed: 200\n"
     ]
    },
    {
     "name": "stderr",
     "output_type": "stream",
     "text": [
      "COLLECTING METRICS: 100%|█████████▉| 1198/1202 [01:29<00:00, 13.16it/s]"
     ]
    },
    {
     "name": "stdout",
     "output_type": "stream",
     "text": [
      "Request completed: 200\n",
      "Request completed: 200\n",
      "Request completed: 200\n"
     ]
    },
    {
     "name": "stderr",
     "output_type": "stream",
     "text": [
      "COLLECTING METRICS: 100%|██████████| 1202/1202 [01:29<00:00, 13.42it/s]"
     ]
    },
    {
     "name": "stdout",
     "output_type": "stream",
     "text": [
      "Request completed: 200\n",
      "Request completed: 200\n",
      "Request completed: 200\n",
      "Filtered selection from 1202 to 125 players.\n"
     ]
    },
    {
     "name": "stderr",
     "output_type": "stream",
     "text": [
      "\n"
     ]
    }
   ],
   "execution_count": 6
  },
  {
   "metadata": {},
   "cell_type": "markdown",
   "source": "## Create Shortlist",
   "id": "53dca17d13c942d5"
  },
  {
   "metadata": {
    "ExecuteTime": {
     "end_time": "2025-08-28T13:05:36.466871Z",
     "start_time": "2025-08-28T13:05:36.135034Z"
    }
   },
   "cell_type": "code",
   "source": "cAPI = CollaborationAPI(credentials, os.getenv(\"SCISPORTS_ACCOUNT\"))",
   "id": "ec4a2b4ab952413e",
   "outputs": [],
   "execution_count": 8
  },
  {
   "metadata": {},
   "cell_type": "code",
   "source": "cAPI.add_shortlist(os.getenv(\"SCISPORTS_USER_ID\"), \"Virtual Director: Ajax DM\")",
   "id": "d566a212df0bd2f7",
   "outputs": [],
   "execution_count": null
  },
  {
   "metadata": {},
   "cell_type": "code",
   "source": [
    "cAPI.add_players_to_shortlist(\n",
    "    os.getenv(\"SCISPORTS_USER_ID\"),\n",
    "    \"Virtual Director: Ajax DM\",\n",
    "    recommendations[\"info.id\"].to_list()\n",
    ")"
   ],
   "id": "22d52dd01d3a0156",
   "outputs": [],
   "execution_count": null
  }
 ],
 "metadata": {
  "kernelspec": {
   "display_name": "Python 3",
   "language": "python",
   "name": "python3"
  },
  "language_info": {
   "codemirror_mode": {
    "name": "ipython",
    "version": 2
   },
   "file_extension": ".py",
   "mimetype": "text/x-python",
   "name": "python",
   "nbconvert_exporter": "python",
   "pygments_lexer": "ipython2",
   "version": "2.7.6"
  }
 },
 "nbformat": 4,
 "nbformat_minor": 5
}
